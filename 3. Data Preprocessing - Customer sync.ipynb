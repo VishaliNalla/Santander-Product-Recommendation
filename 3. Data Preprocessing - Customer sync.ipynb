{
 "cells": [
  {
   "cell_type": "code",
   "execution_count": 1,
   "metadata": {},
   "outputs": [],
   "source": [
    "#Importing packages\n",
    "import pandas as pd"
   ]
  },
  {
   "cell_type": "code",
   "execution_count": 2,
   "metadata": {},
   "outputs": [],
   "source": [
    "#Santander Product Recommendation Dataset\n",
    "onebutlast_month = pd.read_csv(\"Data/Processed/One_but_last_month_data_processsed.csv\") \n",
    "last_month = pd.read_csv(\"Data/Processed/last_month_data_processsed.csv\")"
   ]
  },
  {
   "cell_type": "code",
   "execution_count": 3,
   "metadata": {},
   "outputs": [],
   "source": [
    "last_month_cust=list(last_month['customer_code'].unique())\n",
    "onebutlast_month_cust=list(onebutlast_month['customer_code'].unique())\n",
    "common_cust = list(set(last_month_cust).intersection(onebutlast_month_cust))"
   ]
  },
  {
   "cell_type": "code",
   "execution_count": 4,
   "metadata": {},
   "outputs": [],
   "source": [
    "onebutlast_month_final = onebutlast_month[onebutlast_month['customer_code'].isin(common_cust)]\n",
    "last_month_final = last_month[last_month['customer_code'].isin(common_cust)]"
   ]
  },
  {
   "cell_type": "code",
   "execution_count": 5,
   "metadata": {},
   "outputs": [],
   "source": [
    "onebutlast_month_final.to_csv(\"Data/Processed/One_but_last_month_data_processsed_final.csv\",index=False)\n",
    "last_month_final.to_csv(\"Data/Processed/Last_month_data_processsed_final.csv\",index=False)"
   ]
  }
 ],
 "metadata": {
  "kernelspec": {
   "display_name": "Python 3",
   "language": "python",
   "name": "python3"
  },
  "language_info": {
   "codemirror_mode": {
    "name": "ipython",
    "version": 3
   },
   "file_extension": ".py",
   "mimetype": "text/x-python",
   "name": "python",
   "nbconvert_exporter": "python",
   "pygments_lexer": "ipython3",
   "version": "3.7.3"
  }
 },
 "nbformat": 4,
 "nbformat_minor": 2
}
