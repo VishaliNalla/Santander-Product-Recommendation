{
 "cells": [
  {
   "cell_type": "code",
   "execution_count": null,
   "metadata": {},
   "outputs": [],
   "source": [
    "#Importing packages\n",
    "import sys\n",
    "import pandas as pd\n",
    "import numpy as np\n",
    "import seaborn as sns\n",
    "import matplotlib.pyplot as plt\n",
    "from mlxtend.frequent_patterns import apriori\n",
    "from mlxtend.frequent_patterns import association_rules\n",
    "from scipy import stats\n",
    "import warnings\n",
    "warnings.filterwarnings(\"ignore\")"
   ]
  },
  {
   "cell_type": "code",
   "execution_count": null,
   "metadata": {},
   "outputs": [],
   "source": [
    "#Input the processed CRM data\n",
    "santander_crm = pd.read_csv(\"Data/Processed/One_but_last_month_data_processsed.csv\")"
   ]
  },
  {
   "cell_type": "code",
   "execution_count": null,
   "metadata": {},
   "outputs": [],
   "source": [
    "santander_crm = santander_crm[santander_crm['no_of_accounts'] > 1]"
   ]
  },
  {
   "cell_type": "markdown",
   "metadata": {},
   "source": [
    "### Multi-level Rule Based Segmentation\n",
    "<b>Level 1 : Gross_Income</b><br>\n",
    "<b>Level 2 : Age / No of Accounts</b>"
   ]
  },
  {
   "cell_type": "code",
   "execution_count": null,
   "metadata": {},
   "outputs": [],
   "source": [
    "#Define rules to bin gross_income variable\n",
    "santander_crm = santander_crm.assign(inc_bin = pd.qcut(santander_crm['gross_income'],q=3,duplicates='drop',labels=[0,1,2]))\n",
    "santander_crm = santander_crm.assign(age_bin = pd.qcut(santander_crm['age'],q=2,duplicates='drop',labels=[0,1]))\n",
    "santander_crm = santander_crm.assign(naccount_bin = pd.cut(santander_crm['no_of_accounts'],bins=[1,4,7,pd.np.inf],duplicates='drop',labels=[0,1,2]))"
   ]
  },
  {
   "cell_type": "code",
   "execution_count": null,
   "metadata": {},
   "outputs": [],
   "source": [
    "#Income and Age segments\n",
    "inclow_ageyoung = santander_crm[(santander_crm['inc_bin'] == 0) & (santander_crm['age_bin'] == 0)]\n",
    "inclow_ageold = santander_crm[(santander_crm['inc_bin'] == 0) & (santander_crm['age_bin'] == 1)]\n",
    "\n",
    "incmid_ageyoung = santander_crm[(santander_crm['inc_bin'] == 1) & (santander_crm['age_bin'] == 0)]\n",
    "incmid_ageold = santander_crm[(santander_crm['inc_bin'] == 1) & (santander_crm['age_bin'] == 1)]\n",
    "\n",
    "inchigh_ageyoung = santander_crm[(santander_crm['inc_bin'] == 2) & (santander_crm['age_bin'] == 0)]\n",
    "inchigh_ageold = santander_crm[(santander_crm['inc_bin'] == 2) & (santander_crm['age_bin'] == 1)]\n",
    "\n",
    "#Income and No of accounts segments\n",
    "inclow_nacclow = santander_crm[(santander_crm['inc_bin'] == 0) & (santander_crm['naccount_bin'] == 0)]\n",
    "inclow_naccmid = santander_crm[(santander_crm['inc_bin'] == 0) & (santander_crm['naccount_bin'] == 1)]\n",
    "inclow_nacchigh = santander_crm[(santander_crm['inc_bin'] == 0) & (santander_crm['naccount_bin'] == 2)]\n",
    "\n",
    "incmid_nacclow = santander_crm[(santander_crm['inc_bin'] == 1) & (santander_crm['naccount_bin'] == 0)]\n",
    "incmid_naccmid = santander_crm[(santander_crm['inc_bin'] == 1) & (santander_crm['naccount_bin'] == 1)]\n",
    "incmid_nacchigh = santander_crm[(santander_crm['inc_bin'] == 1) & (santander_crm['naccount_bin'] == 2)]\n",
    "\n",
    "inchigh_nacclow = santander_crm[(santander_crm['inc_bin'] == 2) & (santander_crm['naccount_bin'] == 0)]\n",
    "inchigh_naccmid = santander_crm[(santander_crm['inc_bin'] == 2) & (santander_crm['naccount_bin'] == 1)]\n",
    "inchigh_nacchigh = santander_crm[(santander_crm['inc_bin'] == 2) & (santander_crm['naccount_bin'] == 2)]"
   ]
  },
  {
   "cell_type": "code",
   "execution_count": null,
   "metadata": {},
   "outputs": [],
   "source": [
    "#Getting the account columns\n",
    "list_columns = list(santander_crm)\n",
    "list_accounts = list_columns[11:33]\n",
    "list_accounts.append('customer_code')"
   ]
  },
  {
   "cell_type": "code",
   "execution_count": null,
   "metadata": {},
   "outputs": [],
   "source": [
    "#Creating transaction data\n",
    "def maketrans(transactions):\n",
    "    transactions_filter = transactions[list_accounts]\n",
    "    transactions_filter=transactions_filter.set_index('customer_code')\n",
    "    return transactions_filter"
   ]
  },
  {
   "cell_type": "code",
   "execution_count": null,
   "metadata": {},
   "outputs": [],
   "source": [
    "#Create transactions for income and age segments\n",
    "inclow_ageyoung_trans = maketrans(inclow_ageyoung)\n",
    "inclow_ageold_trans = maketrans(inclow_ageold)\n",
    "\n",
    "incmid_ageyoung_trans = maketrans(incmid_ageyoung)\n",
    "incmid_ageold_trans = maketrans(incmid_ageold)\n",
    "\n",
    "inchigh_ageyoung_trans = maketrans(inchigh_ageyoung)\n",
    "inchigh_ageold_trans = maketrans(inchigh_ageold)\n",
    "\n",
    "#Create transactions for income and no of accounts segments\n",
    "inclow_nacclow_trans = maketrans(inclow_nacclow)\n",
    "inclow_naccmid_trans = maketrans(inclow_naccmid)\n",
    "inclow_nacchigh_trans = maketrans(inclow_nacchigh)\n",
    "\n",
    "incmid_nacclow_trans = maketrans(incmid_nacclow)\n",
    "incmid_naccmid_trans = maketrans(incmid_naccmid)\n",
    "incmid_nacchigh_trans = maketrans(incmid_nacchigh)\n",
    "\n",
    "inchigh_nacclow_trans = maketrans(inchigh_nacclow)\n",
    "inchigh_naccmid_trans = maketrans(inchigh_naccmid)\n",
    "inchigh_nacchigh_trans = maketrans(inchigh_nacchigh)\n"
   ]
  },
  {
   "cell_type": "code",
   "execution_count": null,
   "metadata": {},
   "outputs": [],
   "source": [
    "f, axes = plt.subplots(1, 1,figsize=(10,4))\n",
    "plt.title('Customer Segments based on Income along with Age')\n",
    "sns.countplot(x=\"inc_bin\", hue=\"age_bin\", data=santander_crm)"
   ]
  },
  {
   "cell_type": "code",
   "execution_count": null,
   "metadata": {},
   "outputs": [],
   "source": [
    "f, axes = plt.subplots(1, 1,figsize=(10,4))\n",
    "plt.title('Customer Segments based on Income along with No. of Accounts')\n",
    "sns.countplot(x=\"inc_bin\", hue=\"naccount_bin\", data=santander_crm)"
   ]
  },
  {
   "cell_type": "markdown",
   "metadata": {},
   "source": [
    "### MBA for Income and Age Bins"
   ]
  },
  {
   "cell_type": "markdown",
   "metadata": {},
   "source": [
    "#### 1. Low Income and Young Age"
   ]
  },
  {
   "cell_type": "code",
   "execution_count": null,
   "metadata": {},
   "outputs": [],
   "source": [
    "#Low income and young age segment\n",
    "frequent_itemsets = apriori(inclow_ageyoung_trans, min_support=0.02, use_colnames=True)\n",
    "frequent_itemsets = frequent_itemsets[frequent_itemsets.itemsets.map(len)<3]\n",
    "rules = association_rules(frequent_itemsets, metric=\"lift\", min_threshold=1.2)\n",
    "\n",
    "rules['chisq'] = ''\n",
    "rules['pvalue'] = ''\n",
    "for i in range(0,len(rules)):\n",
    "    if not ((rules['support'][i] == rules['confidence'][i]) or (rules['lift'][i] == rules['confidence'][i])):\n",
    "        a=len(inclow_ageyoung)\n",
    "        b=(rules['lift'][i]-1)**2\n",
    "        c=(rules['support'][i])*(rules['confidence'][i])\n",
    "        d=(rules['confidence'][i] - rules['support'][i])\n",
    "        e=(rules['lift'][i]-rules['confidence'][i])\n",
    "        rules['chisq'][i] = ((a*b*c)/(d*e))\n",
    "        rules['pvalue'][i] = 1-(stats.chi2.cdf(rules['chisq'][i], 1))   \n",
    "        \n",
    "#Removing insignificant rules based on pvalue\n",
    "rules = rules[rules['pvalue'] < 0.05]\n",
    "rules['lift']=round(rules['lift'],5)\n",
    "rules.sort_values(by=['lift', 'antecedent support'], ascending = [False,False])"
   ]
  },
  {
   "cell_type": "markdown",
   "metadata": {},
   "source": [
    "#### 2. Low Income and Old Age"
   ]
  },
  {
   "cell_type": "code",
   "execution_count": null,
   "metadata": {},
   "outputs": [],
   "source": [
    "#Low income and old age segment\n",
    "frequent_itemsets = apriori(inclow_ageold_trans, min_support=0.02, use_colnames=True)\n",
    "frequent_itemsets = frequent_itemsets[frequent_itemsets.itemsets.map(len)<3]\n",
    "rules = association_rules(frequent_itemsets, metric=\"lift\", min_threshold=1.2)\n",
    "\n",
    "rules['chisq'] = ''\n",
    "rules['pvalue'] = ''\n",
    "for i in range(0,len(rules)):\n",
    "    if not ((rules['support'][i] == rules['confidence'][i]) or (rules['lift'][i] == rules['confidence'][i])):\n",
    "        a=len(inclow_ageold)\n",
    "        b=(rules['lift'][i]-1)**2\n",
    "        c=(rules['support'][i])*(rules['confidence'][i])\n",
    "        d=(rules['confidence'][i] - rules['support'][i])\n",
    "        e=(rules['lift'][i]-rules['confidence'][i])\n",
    "        rules['chisq'][i] = ((a*b*c)/(d*e))\n",
    "        rules['pvalue'][i] = 1-(stats.chi2.cdf(rules['chisq'][i], 1))   \n",
    "        \n",
    "#Removing insignificant rules based on pvalue\n",
    "rules = rules[rules['pvalue'] < 0.05]\n",
    "rules['lift']=round(rules['lift'],5)\n",
    "rules.sort_values(by=['lift', 'antecedent support'], ascending = [False,False])"
   ]
  },
  {
   "cell_type": "markdown",
   "metadata": {},
   "source": [
    "#### 3. Mid Income and Young Age"
   ]
  },
  {
   "cell_type": "code",
   "execution_count": null,
   "metadata": {},
   "outputs": [],
   "source": [
    "#mid income and low age segment\n",
    "frequent_itemsets = apriori(incmid_ageyoung_trans, min_support=0.02, use_colnames=True)\n",
    "frequent_itemsets = frequent_itemsets[frequent_itemsets.itemsets.map(len)<3]\n",
    "rules = association_rules(frequent_itemsets, metric=\"lift\", min_threshold=1.2)\n",
    "\n",
    "rules['chisq'] = ''\n",
    "rules['pvalue'] = ''\n",
    "for i in range(0,len(rules)):\n",
    "    if not ((rules['support'][i] == rules['confidence'][i]) or (rules['lift'][i] == rules['confidence'][i])):\n",
    "        a=len(incmid_ageyoung)\n",
    "        b=(rules['lift'][i]-1)**2\n",
    "        c=(rules['support'][i])*(rules['confidence'][i])\n",
    "        d=(rules['confidence'][i] - rules['support'][i])\n",
    "        e=(rules['lift'][i]-rules['confidence'][i])\n",
    "        rules['chisq'][i] = ((a*b*c)/(d*e))\n",
    "        rules['pvalue'][i] = 1-(stats.chi2.cdf(rules['chisq'][i], 1))   \n",
    "        \n",
    "#Removing insignificant rules based on pvalue\n",
    "rules = rules[rules['pvalue'] < 0.05]\n",
    "rules['lift']=round(rules['lift'],5)\n",
    "rules.sort_values(by=['lift', 'antecedent support'], ascending = [False,False])"
   ]
  },
  {
   "cell_type": "markdown",
   "metadata": {},
   "source": [
    "#### 4. Mid Income and Old Age"
   ]
  },
  {
   "cell_type": "code",
   "execution_count": null,
   "metadata": {},
   "outputs": [],
   "source": [
    "#mid income and mid age segment\n",
    "frequent_itemsets = apriori(incmid_ageold_trans, min_support=0.02, use_colnames=True)\n",
    "frequent_itemsets = frequent_itemsets[frequent_itemsets.itemsets.map(len)<3]\n",
    "rules = association_rules(frequent_itemsets, metric=\"lift\", min_threshold=1.2)\n",
    "\n",
    "rules['chisq'] = ''\n",
    "rules['pvalue'] = ''\n",
    "for i in range(0,len(rules)):\n",
    "    if not ((rules['support'][i] == rules['confidence'][i]) or (rules['lift'][i] == rules['confidence'][i])):\n",
    "        a=len(incmid_ageold)\n",
    "        b=(rules['lift'][i]-1)**2\n",
    "        c=(rules['support'][i])*(rules['confidence'][i])\n",
    "        d=(rules['confidence'][i] - rules['support'][i])\n",
    "        e=(rules['lift'][i]-rules['confidence'][i])\n",
    "        rules['chisq'][i] = ((a*b*c)/(d*e))\n",
    "        rules['pvalue'][i] = 1-(stats.chi2.cdf(rules['chisq'][i], 1))   \n",
    "        \n",
    "#Removing insignificant rules based on pvalue\n",
    "rules = rules[rules['pvalue'] < 0.05]\n",
    "rules['lift']=round(rules['lift'],5)\n",
    "rules.sort_values(by=['lift', 'antecedent support'], ascending = [False,False])"
   ]
  },
  {
   "cell_type": "markdown",
   "metadata": {},
   "source": [
    "#### 5. High Income and Young Age"
   ]
  },
  {
   "cell_type": "code",
   "execution_count": null,
   "metadata": {},
   "outputs": [],
   "source": [
    "#High income and low age segment\n",
    "frequent_itemsets = apriori(inchigh_ageyoung_trans, min_support=0.02, use_colnames=True)\n",
    "frequent_itemsets = frequent_itemsets[frequent_itemsets.itemsets.map(len)<3]\n",
    "rules = association_rules(frequent_itemsets, metric=\"lift\", min_threshold=1.2)\n",
    "\n",
    "rules['chisq'] = ''\n",
    "rules['pvalue'] = ''\n",
    "for i in range(0,len(rules)):\n",
    "    if not ((rules['support'][i] == rules['confidence'][i]) or (rules['lift'][i] == rules['confidence'][i])):\n",
    "        a=len(inchigh_ageyoung)\n",
    "        b=(rules['lift'][i]-1)**2\n",
    "        c=(rules['support'][i])*(rules['confidence'][i])\n",
    "        d=(rules['confidence'][i] - rules['support'][i])\n",
    "        e=(rules['lift'][i]-rules['confidence'][i])\n",
    "        rules['chisq'][i] = ((a*b*c)/(d*e))\n",
    "        rules['pvalue'][i] = 1-(stats.chi2.cdf(rules['chisq'][i], 1))   \n",
    "        \n",
    "#Removing insignificant rules based on pvalue\n",
    "rules = rules[rules['pvalue'] < 0.05]\n",
    "rules['lift']=round(rules['lift'],5)\n",
    "rules.sort_values(by=['lift', 'antecedent support'], ascending = [False,False])"
   ]
  },
  {
   "cell_type": "markdown",
   "metadata": {},
   "source": [
    "#### 6. High Income and Old Age"
   ]
  },
  {
   "cell_type": "code",
   "execution_count": null,
   "metadata": {},
   "outputs": [],
   "source": [
    "#High income and mid age segment\n",
    "frequent_itemsets = apriori(inchigh_ageold_trans, min_support=0.02, use_colnames=True)\n",
    "frequent_itemsets = frequent_itemsets[frequent_itemsets.itemsets.map(len)<3]\n",
    "rules = association_rules(frequent_itemsets, metric=\"lift\", min_threshold=1.2)\n",
    "\n",
    "rules['chisq'] = ''\n",
    "rules['pvalue'] = ''\n",
    "for i in range(0,len(rules)):\n",
    "    if not ((rules['support'][i] == rules['confidence'][i]) or (rules['lift'][i] == rules['confidence'][i])):\n",
    "        a=len(inchigh_ageold)\n",
    "        b=(rules['lift'][i]-1)**2\n",
    "        c=(rules['support'][i])*(rules['confidence'][i])\n",
    "        d=(rules['confidence'][i] - rules['support'][i])\n",
    "        e=(rules['lift'][i]-rules['confidence'][i])\n",
    "        rules['chisq'][i] = ((a*b*c)/(d*e))\n",
    "        rules['pvalue'][i] = 1-(stats.chi2.cdf(rules['chisq'][i], 1))   \n",
    "        \n",
    "#Removing insignificant rules based on pvalue\n",
    "rules = rules[rules['pvalue'] < 0.05]\n",
    "rules['lift']=round(rules['lift'],5)\n",
    "rules.sort_values(by=['lift', 'antecedent support'], ascending = [False,False])"
   ]
  },
  {
   "cell_type": "markdown",
   "metadata": {},
   "source": [
    "### MBA for Income and No of accounts bins"
   ]
  },
  {
   "cell_type": "markdown",
   "metadata": {},
   "source": [
    "#### 1. Low Income and Less No of accounts"
   ]
  },
  {
   "cell_type": "code",
   "execution_count": null,
   "metadata": {},
   "outputs": [],
   "source": [
    "#Low income and low nacc segment\n",
    "frequent_itemsets = apriori(inclow_nacclow_trans, min_support=0.02, use_colnames=True)\n",
    "frequent_itemsets = frequent_itemsets[frequent_itemsets.itemsets.map(len)<3]\n",
    "rules = association_rules(frequent_itemsets, metric=\"lift\", min_threshold=1.2)\n",
    "\n",
    "rules['chisq'] = ''\n",
    "rules['pvalue'] = ''\n",
    "for i in range(0,len(rules)):\n",
    "    if not ((rules['support'][i] == rules['confidence'][i]) or (rules['lift'][i] == rules['confidence'][i])):\n",
    "        a=len(inclow_nacclow)\n",
    "        b=(rules['lift'][i]-1)**2\n",
    "        c=(rules['support'][i])*(rules['confidence'][i])\n",
    "        d=(rules['confidence'][i] - rules['support'][i])\n",
    "        e=(rules['lift'][i]-rules['confidence'][i])\n",
    "        rules['chisq'][i] = ((a*b*c)/(d*e))\n",
    "        rules['pvalue'][i] = 1-(stats.chi2.cdf(rules['chisq'][i], 1))   \n",
    "        \n",
    "#Removing insignificant rules based on pvalue\n",
    "rules = rules[rules['pvalue'] < 0.05]\n",
    "rules['lift']=round(rules['lift'],5)\n",
    "rules.sort_values(by=['lift', 'antecedent support'], ascending = [False,False])"
   ]
  },
  {
   "cell_type": "markdown",
   "metadata": {},
   "source": [
    "#### 2. Low Income and Average No of accounts"
   ]
  },
  {
   "cell_type": "code",
   "execution_count": null,
   "metadata": {},
   "outputs": [],
   "source": [
    "#Low income and mid nacc segment\n",
    "frequent_itemsets = apriori(inclow_naccmid_trans, min_support=0.02, use_colnames=True)\n",
    "frequent_itemsets = frequent_itemsets[frequent_itemsets.itemsets.map(len)<3]\n",
    "rules = association_rules(frequent_itemsets, metric=\"lift\", min_threshold=1.2)\n",
    "\n",
    "rules['chisq'] = ''\n",
    "rules['pvalue'] = ''\n",
    "for i in range(0,len(rules)):\n",
    "    if not ((rules['support'][i] == rules['confidence'][i]) or (rules['lift'][i] == rules['confidence'][i])):\n",
    "        a=len(inclow_naccmid)\n",
    "        b=(rules['lift'][i]-1)**2\n",
    "        c=(rules['support'][i])*(rules['confidence'][i])\n",
    "        d=(rules['confidence'][i] - rules['support'][i])\n",
    "        e=(rules['lift'][i]-rules['confidence'][i])\n",
    "        rules['chisq'][i] = ((a*b*c)/(d*e))\n",
    "        rules['pvalue'][i] = 1-(stats.chi2.cdf(rules['chisq'][i], 1))   \n",
    "        \n",
    "#Removing insignificant rules based on pvalue\n",
    "rules = rules[rules['pvalue'] < 0.05]\n",
    "rules['lift']=round(rules['lift'],5)\n",
    "rules.sort_values(by=['lift', 'antecedent support'], ascending = [False,False])"
   ]
  },
  {
   "cell_type": "markdown",
   "metadata": {},
   "source": [
    "#### 3. Low Income and More No of Accounts"
   ]
  },
  {
   "cell_type": "code",
   "execution_count": null,
   "metadata": {},
   "outputs": [],
   "source": [
    "#Low income and high nacc segment\n",
    "frequent_itemsets = apriori(inclow_nacchigh_trans, min_support=0.02, use_colnames=True)\n",
    "frequent_itemsets = frequent_itemsets[frequent_itemsets.itemsets.map(len)<3]\n",
    "rules = association_rules(frequent_itemsets, metric=\"lift\", min_threshold=1.2)\n",
    "\n",
    "rules['chisq'] = ''\n",
    "rules['pvalue'] = ''\n",
    "for i in range(0,len(rules)):\n",
    "    if not ((rules['support'][i] == rules['confidence'][i]) or (rules['lift'][i] == rules['confidence'][i])):\n",
    "        a=len(inclow_nacchigh)\n",
    "        b=(rules['lift'][i]-1)**2\n",
    "        c=(rules['support'][i])*(rules['confidence'][i])\n",
    "        d=(rules['confidence'][i] - rules['support'][i])\n",
    "        e=(rules['lift'][i]-rules['confidence'][i])\n",
    "        rules['chisq'][i] = ((a*b*c)/(d*e))\n",
    "        rules['pvalue'][i] = 1-(stats.chi2.cdf(rules['chisq'][i], 1))   \n",
    "        \n",
    "#Removing insignificant rules based on pvalue\n",
    "rules = rules[rules['pvalue'] < 0.05]\n",
    "rules['lift']=round(rules['lift'],5)\n",
    "rules.sort_values(by=['lift', 'antecedent support'], ascending = [False,False])"
   ]
  },
  {
   "cell_type": "markdown",
   "metadata": {},
   "source": [
    "#### 4. Mid Income and Less No of Accounts"
   ]
  },
  {
   "cell_type": "code",
   "execution_count": null,
   "metadata": {},
   "outputs": [],
   "source": [
    "#Mid income and low nacc segment\n",
    "frequent_itemsets = apriori(incmid_nacclow_trans, min_support=0.02, use_colnames=True)\n",
    "frequent_itemsets = frequent_itemsets[frequent_itemsets.itemsets.map(len)<3]\n",
    "rules = association_rules(frequent_itemsets, metric=\"lift\", min_threshold=1.2)\n",
    "\n",
    "rules['chisq'] = ''\n",
    "rules['pvalue'] = ''\n",
    "for i in range(0,len(rules)):\n",
    "    if not ((rules['support'][i] == rules['confidence'][i]) or (rules['lift'][i] == rules['confidence'][i])):\n",
    "        a=len(incmid_nacclow)\n",
    "        b=(rules['lift'][i]-1)**2\n",
    "        c=(rules['support'][i])*(rules['confidence'][i])\n",
    "        d=(rules['confidence'][i] - rules['support'][i])\n",
    "        e=(rules['lift'][i]-rules['confidence'][i])\n",
    "        rules['chisq'][i] = ((a*b*c)/(d*e))\n",
    "        rules['pvalue'][i] = 1-(stats.chi2.cdf(rules['chisq'][i], 1))   \n",
    "        \n",
    "#Removing insignificant rules based on pvalue\n",
    "rules = rules[rules['pvalue'] < 0.05]\n",
    "rules['lift']=round(rules['lift'],5)\n",
    "rules.sort_values(by=['lift', 'antecedent support'], ascending = [False,False])"
   ]
  },
  {
   "cell_type": "markdown",
   "metadata": {},
   "source": [
    "#### 5. Mid Income and Average No of Accounts"
   ]
  },
  {
   "cell_type": "code",
   "execution_count": null,
   "metadata": {},
   "outputs": [],
   "source": [
    "#Mid income and mid nacc segment\n",
    "frequent_itemsets = apriori(incmid_naccmid_trans, min_support=0.02, use_colnames=True)\n",
    "frequent_itemsets = frequent_itemsets[frequent_itemsets.itemsets.map(len)<3]\n",
    "rules = association_rules(frequent_itemsets, metric=\"lift\", min_threshold=1.2)\n",
    "\n",
    "rules['chisq'] = ''\n",
    "rules['pvalue'] = ''\n",
    "for i in range(0,len(rules)):\n",
    "    if not ((rules['support'][i] == rules['confidence'][i]) or (rules['lift'][i] == rules['confidence'][i])):\n",
    "        a=len(incmid_naccmid)\n",
    "        b=(rules['lift'][i]-1)**2\n",
    "        c=(rules['support'][i])*(rules['confidence'][i])\n",
    "        d=(rules['confidence'][i] - rules['support'][i])\n",
    "        e=(rules['lift'][i]-rules['confidence'][i])\n",
    "        rules['chisq'][i] = ((a*b*c)/(d*e))\n",
    "        rules['pvalue'][i] = 1-(stats.chi2.cdf(rules['chisq'][i], 1))   \n",
    "        \n",
    "#Removing insignificant rules based on pvalue\n",
    "rules = rules[rules['pvalue'] < 0.05]\n",
    "rules['lift']=round(rules['lift'],5)\n",
    "rules.sort_values(by=['lift', 'antecedent support'], ascending = [False,False])"
   ]
  },
  {
   "cell_type": "markdown",
   "metadata": {},
   "source": [
    "#### 6. Mid Income and More No of Accounts"
   ]
  },
  {
   "cell_type": "code",
   "execution_count": null,
   "metadata": {},
   "outputs": [],
   "source": [
    "#Mid income and high nacc segment\n",
    "frequent_itemsets = apriori(incmid_nacchigh_trans, min_support=0.02, use_colnames=True)\n",
    "frequent_itemsets = frequent_itemsets[frequent_itemsets.itemsets.map(len)<3]\n",
    "rules = association_rules(frequent_itemsets, metric=\"lift\", min_threshold=1.2)\n",
    "\n",
    "rules['chisq'] = ''\n",
    "rules['pvalue'] = ''\n",
    "for i in range(0,len(rules)):\n",
    "    if not ((rules['support'][i] == rules['confidence'][i]) or (rules['lift'][i] == rules['confidence'][i])):\n",
    "        a=len(incmid_nacchigh)\n",
    "        b=(rules['lift'][i]-1)**2\n",
    "        c=(rules['support'][i])*(rules['confidence'][i])\n",
    "        d=(rules['confidence'][i] - rules['support'][i])\n",
    "        e=(rules['lift'][i]-rules['confidence'][i])\n",
    "        rules['chisq'][i] = ((a*b*c)/(d*e))\n",
    "        rules['pvalue'][i] = 1-(stats.chi2.cdf(rules['chisq'][i], 1))   \n",
    "        \n",
    "#Removing insignificant rules based on pvalue\n",
    "rules = rules[rules['pvalue'] < 0.05]\n",
    "rules['lift']=round(rules['lift'],5)\n",
    "rules.sort_values(by=['lift', 'antecedent support'], ascending = [False,False])"
   ]
  },
  {
   "cell_type": "markdown",
   "metadata": {},
   "source": [
    "#### 7. High Income and Less No of Accounts"
   ]
  },
  {
   "cell_type": "code",
   "execution_count": null,
   "metadata": {},
   "outputs": [],
   "source": [
    "#High income and low nacc segment\n",
    "frequent_itemsets = apriori(inchigh_nacclow_trans, min_support=0.02, use_colnames=True)\n",
    "frequent_itemsets = frequent_itemsets[frequent_itemsets.itemsets.map(len)<3]\n",
    "rules = association_rules(frequent_itemsets, metric=\"lift\", min_threshold=1.2)\n",
    "\n",
    "rules['chisq'] = ''\n",
    "rules['pvalue'] = ''\n",
    "for i in range(0,len(rules)):\n",
    "    if not ((rules['support'][i] == rules['confidence'][i]) or (rules['lift'][i] == rules['confidence'][i])):\n",
    "        a=len(inchigh_nacclow)\n",
    "        b=(rules['lift'][i]-1)**2\n",
    "        c=(rules['support'][i])*(rules['confidence'][i])\n",
    "        d=(rules['confidence'][i] - rules['support'][i])\n",
    "        e=(rules['lift'][i]-rules['confidence'][i])\n",
    "        rules['chisq'][i] = ((a*b*c)/(d*e))\n",
    "        rules['pvalue'][i] = 1-(stats.chi2.cdf(rules['chisq'][i], 1))   \n",
    "        \n",
    "#Removing insignificant rules based on pvalue\n",
    "rules = rules[rules['pvalue'] < 0.05]\n",
    "rules['lift']=round(rules['lift'],5)\n",
    "rules.sort_values(by=['lift', 'antecedent support'], ascending = [False,False])"
   ]
  },
  {
   "cell_type": "markdown",
   "metadata": {},
   "source": [
    "#### 8. High Income and Average No of Accounts"
   ]
  },
  {
   "cell_type": "code",
   "execution_count": null,
   "metadata": {},
   "outputs": [],
   "source": [
    "#High income and mid nacc segment\n",
    "frequent_itemsets = apriori(inchigh_naccmid_trans, min_support=0.02, use_colnames=True)\n",
    "frequent_itemsets = frequent_itemsets[frequent_itemsets.itemsets.map(len)<3]\n",
    "rules = association_rules(frequent_itemsets, metric=\"lift\", min_threshold=1.2)\n",
    "\n",
    "rules['chisq'] = ''\n",
    "rules['pvalue'] = ''\n",
    "for i in range(0,len(rules)):\n",
    "    if not ((rules['support'][i] == rules['confidence'][i]) or (rules['lift'][i] == rules['confidence'][i])):\n",
    "        a=len(inchigh_naccmid)\n",
    "        b=(rules['lift'][i]-1)**2\n",
    "        c=(rules['support'][i])*(rules['confidence'][i])\n",
    "        d=(rules['confidence'][i] - rules['support'][i])\n",
    "        e=(rules['lift'][i]-rules['confidence'][i])\n",
    "        rules['chisq'][i] = ((a*b*c)/(d*e))\n",
    "        rules['pvalue'][i] = 1-(stats.chi2.cdf(rules['chisq'][i], 1))   \n",
    "        \n",
    "#Removing insignificant rules based on pvalue\n",
    "rules = rules[rules['pvalue'] < 0.05]\n",
    "rules['lift']=round(rules['lift'],5)\n",
    "rules.sort_values(by=['lift', 'antecedent support'], ascending = [False,False])"
   ]
  },
  {
   "cell_type": "markdown",
   "metadata": {},
   "source": [
    "#### 9. High Income and More No of Accounts"
   ]
  },
  {
   "cell_type": "code",
   "execution_count": null,
   "metadata": {},
   "outputs": [],
   "source": [
    "#High income and high nacc segment\n",
    "frequent_itemsets = apriori(incmid_nacchigh_trans, min_support=0.02, use_colnames=True)\n",
    "frequent_itemsets = frequent_itemsets[frequent_itemsets.itemsets.map(len)<3]\n",
    "rules = association_rules(frequent_itemsets, metric=\"lift\", min_threshold=1.2)\n",
    "\n",
    "rules['chisq'] = ''\n",
    "rules['pvalue'] = ''\n",
    "for i in range(0,len(rules)):\n",
    "    if not ((rules['support'][i] == rules['confidence'][i]) or (rules['lift'][i] == rules['confidence'][i])):\n",
    "        a=len(incmid_nacchigh)\n",
    "        b=(rules['lift'][i]-1)**2\n",
    "        c=(rules['support'][i])*(rules['confidence'][i])\n",
    "        d=(rules['confidence'][i] - rules['support'][i])\n",
    "        e=(rules['lift'][i]-rules['confidence'][i])\n",
    "        rules['chisq'][i] = ((a*b*c)/(d*e))\n",
    "        rules['pvalue'][i] = 1-(stats.chi2.cdf(rules['chisq'][i], 1))   \n",
    "        \n",
    "#Removing insignificant rules based on pvalue\n",
    "rules = rules[rules['pvalue'] < 0.05]\n",
    "rules['lift']=round(rules['lift'],5)\n",
    "rules.sort_values(by=['lift', 'antecedent support'], ascending = [False,False])"
   ]
  }
 ],
 "metadata": {
  "kernelspec": {
   "display_name": "Python 3",
   "language": "python",
   "name": "python3"
  },
  "language_info": {
   "codemirror_mode": {
    "name": "ipython",
    "version": 3
   },
   "file_extension": ".py",
   "mimetype": "text/x-python",
   "name": "python",
   "nbconvert_exporter": "python",
   "pygments_lexer": "ipython3",
   "version": "3.6.5"
  }
 },
 "nbformat": 4,
 "nbformat_minor": 2
}
