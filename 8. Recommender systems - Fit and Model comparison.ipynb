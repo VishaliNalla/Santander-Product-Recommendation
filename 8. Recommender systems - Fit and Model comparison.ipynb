{
 "cells": [
  {
   "cell_type": "markdown",
   "metadata": {},
   "source": [
    "### COLLABORATIVE FILTERING FOR IMPLICIT FEEDBACK"
   ]
  },
  {
   "cell_type": "markdown",
   "metadata": {},
   "source": [
    "Import the necessary packages"
   ]
  },
  {
   "cell_type": "code",
   "execution_count": 1,
   "metadata": {},
   "outputs": [],
   "source": [
    "import sys\n",
    "import pandas as pd\n",
    "import numpy as np\n",
    "import scipy.sparse as sparse\n",
    "import seaborn as sns\n",
    "import implicit\n",
    "from tqdm import tqdm\n",
    "import pandas as pd\n",
    "import numpy as np\n",
    "from sklearn.metrics.pairwise import cosine_similarity\n",
    "from scipy import sparse\n",
    "from sklearn.metrics import confusion_matrix\n",
    "import matplotlib.pyplot as plt\n",
    "from prettytable import PrettyTable\n",
    "import warnings\n",
    "warnings.filterwarnings(\"ignore\")"
   ]
  },
  {
   "cell_type": "markdown",
   "metadata": {},
   "source": [
    "Import the data of the last month as the test set and the one but last month to train the recommender system"
   ]
  },
  {
   "cell_type": "code",
   "execution_count": 2,
   "metadata": {},
   "outputs": [],
   "source": [
    "# Load the data\n",
    "traindata = pd.read_csv('Data/Processed/One_but_last_month_data_processsed_final.csv',encoding = 'unicode_escape')\n",
    "testdata = pd.read_csv('Data/Processed/Last_month_data_processsed_final.csv',encoding = 'unicode_escape')"
   ]
  },
  {
   "cell_type": "code",
   "execution_count": 3,
   "metadata": {},
   "outputs": [
    {
     "data": {
      "text/plain": [
       "10000"
      ]
     },
     "execution_count": 3,
     "metadata": {},
     "output_type": "execute_result"
    }
   ],
   "source": [
    "traindata_select = traindata.copy()\n",
    "testdata_select = testdata.copy()\n",
    "traindata_select.drop(columns=['no_of_accounts','province_segment','sex', 'age', 'new_customer_index','seniority','customer_type',\n",
    " 'customer_relation_at_begin', 'foreign_index', 'province_name', 'activity_index', 'gross_income', 'segmentation'],inplace=True)\n",
    "testdata_select.drop(columns=['no_of_accounts', 'province_segment', 'sex', 'age', 'new_customer_index', 'seniority', 'customer_type',\n",
    " 'customer_relation_at_begin', 'foreign_index', 'province_name', 'activity_index', 'gross_income', 'segmentation'],inplace=True)\n",
    "traindata_select=traindata_select.sort_values(by='customer_code')\n",
    "testdata_select=testdata_select.sort_values(by='customer_code')\n",
    "testdata_select=testdata_select.set_index('customer_code')\n",
    "traindata_select=traindata_select.set_index('customer_code')\n",
    "newpurchases = (testdata_select-traindata_select).clip(lower=0)\n",
    "newpurchases = newpurchases[newpurchases.sum(axis=1) > 0]\n",
    "newpurchasecust = newpurchases.index.tolist()\n",
    "newpurchasecust = newpurchasecust[0:10000]\n",
    "len(newpurchasecust)"
   ]
  },
  {
   "cell_type": "markdown",
   "metadata": {},
   "source": [
    "Subset the data to a sample for quick processing and make copies of the dataframe for future use"
   ]
  },
  {
   "cell_type": "code",
   "execution_count": 4,
   "metadata": {},
   "outputs": [],
   "source": [
    "traindata=traindata.sort_values(by='customer_code')\n",
    "testdata=testdata.sort_values(by='customer_code')\n",
    "traindata=traindata[traindata['customer_code'].isin(newpurchasecust)]\n",
    "testdata=testdata[testdata['customer_code'].isin(newpurchasecust)]\n",
    "ncustomers=len(newpurchasecust)"
   ]
  },
  {
   "cell_type": "code",
   "execution_count": 5,
   "metadata": {},
   "outputs": [],
   "source": [
    "traindata_copy = traindata.copy()\n",
    "testdata_copy = testdata.copy()"
   ]
  },
  {
   "cell_type": "markdown",
   "metadata": {},
   "source": [
    "Drop the demographic data columns, as Collaborative filtering algorithms only require a USER-ITEM interation matrix"
   ]
  },
  {
   "cell_type": "code",
   "execution_count": 6,
   "metadata": {},
   "outputs": [],
   "source": [
    "#Drop demographic columns\n",
    "traindata.drop(columns=['no_of_accounts',\n",
    " 'province_segment',\n",
    " 'sex',\n",
    " 'age',\n",
    " 'new_customer_index',\n",
    " 'seniority',\n",
    " 'customer_type',\n",
    " 'customer_relation_at_begin',\n",
    " 'foreign_index',\n",
    " 'province_name',\n",
    " 'activity_index',\n",
    " 'gross_income',\n",
    " 'segmentation'],inplace=True)"
   ]
  },
  {
   "cell_type": "code",
   "execution_count": 7,
   "metadata": {},
   "outputs": [],
   "source": [
    "traindata_orig = traindata.copy()"
   ]
  },
  {
   "cell_type": "markdown",
   "metadata": {},
   "source": [
    "Create transactions from the USER-ITEM matrix and remove records with accounts not owned by user"
   ]
  },
  {
   "cell_type": "code",
   "execution_count": 8,
   "metadata": {},
   "outputs": [
    {
     "data": {
      "text/html": [
       "<div>\n",
       "<style scoped>\n",
       "    .dataframe tbody tr th:only-of-type {\n",
       "        vertical-align: middle;\n",
       "    }\n",
       "\n",
       "    .dataframe tbody tr th {\n",
       "        vertical-align: top;\n",
       "    }\n",
       "\n",
       "    .dataframe thead th {\n",
       "        text-align: right;\n",
       "    }\n",
       "</style>\n",
       "<table border=\"1\" class=\"dataframe\">\n",
       "  <thead>\n",
       "    <tr style=\"text-align: right;\">\n",
       "      <th></th>\n",
       "      <th>customer_code</th>\n",
       "      <th>account</th>\n",
       "      <th>ownership</th>\n",
       "    </tr>\n",
       "  </thead>\n",
       "  <tbody>\n",
       "    <tr>\n",
       "      <th>2</th>\n",
       "      <td>15889</td>\n",
       "      <td>ind_current_account</td>\n",
       "      <td>1</td>\n",
       "    </tr>\n",
       "    <tr>\n",
       "      <th>7</th>\n",
       "      <td>15889</td>\n",
       "      <td>ind_particular_plus_account</td>\n",
       "      <td>1</td>\n",
       "    </tr>\n",
       "    <tr>\n",
       "      <th>18</th>\n",
       "      <td>15889</td>\n",
       "      <td>ind_securities</td>\n",
       "      <td>1</td>\n",
       "    </tr>\n",
       "    <tr>\n",
       "      <th>24</th>\n",
       "      <td>15929</td>\n",
       "      <td>ind_current_account</td>\n",
       "      <td>1</td>\n",
       "    </tr>\n",
       "    <tr>\n",
       "      <th>29</th>\n",
       "      <td>15929</td>\n",
       "      <td>ind_particular_plus_account</td>\n",
       "      <td>1</td>\n",
       "    </tr>\n",
       "  </tbody>\n",
       "</table>\n",
       "</div>"
      ],
      "text/plain": [
       "    customer_code                      account  ownership\n",
       "2           15889          ind_current_account          1\n",
       "7           15889  ind_particular_plus_account          1\n",
       "18          15889               ind_securities          1\n",
       "24          15929          ind_current_account          1\n",
       "29          15929  ind_particular_plus_account          1"
      ]
     },
     "execution_count": 8,
     "metadata": {},
     "output_type": "execute_result"
    }
   ],
   "source": [
    "#Stack the data into transactions\n",
    "traindata=traindata.set_index('customer_code')\n",
    "\n",
    "traindata = traindata.stack()\n",
    "traindata=traindata.to_frame()\n",
    "traindata.reset_index(inplace=True)\n",
    "traindata.columns = ['customer_code', 'account','ownership']\n",
    "traindata=traindata[traindata['ownership']>0]\n",
    "traindata.head()"
   ]
  },
  {
   "cell_type": "markdown",
   "metadata": {},
   "source": [
    "### COLLABORATIVE FILTERING FOR IMPLICIT FEEDBACK - ALTERNATING LEAST SQUARES"
   ]
  },
  {
   "cell_type": "markdown",
   "metadata": {},
   "source": [
    "Create an ID for each USER and each ITEM as required by the IMPLICIT library for building the Recommender system"
   ]
  },
  {
   "cell_type": "code",
   "execution_count": 9,
   "metadata": {},
   "outputs": [
    {
     "data": {
      "text/html": [
       "<div>\n",
       "<style scoped>\n",
       "    .dataframe tbody tr th:only-of-type {\n",
       "        vertical-align: middle;\n",
       "    }\n",
       "\n",
       "    .dataframe tbody tr th {\n",
       "        vertical-align: top;\n",
       "    }\n",
       "\n",
       "    .dataframe thead th {\n",
       "        text-align: right;\n",
       "    }\n",
       "</style>\n",
       "<table border=\"1\" class=\"dataframe\">\n",
       "  <thead>\n",
       "    <tr style=\"text-align: right;\">\n",
       "      <th></th>\n",
       "      <th>customer_code</th>\n",
       "      <th>account</th>\n",
       "      <th>ownership</th>\n",
       "      <th>customer_code_id</th>\n",
       "      <th>account_id</th>\n",
       "    </tr>\n",
       "  </thead>\n",
       "  <tbody>\n",
       "    <tr>\n",
       "      <th>2</th>\n",
       "      <td>15889</td>\n",
       "      <td>ind_current_account</td>\n",
       "      <td>1</td>\n",
       "      <td>0</td>\n",
       "      <td>1</td>\n",
       "    </tr>\n",
       "    <tr>\n",
       "      <th>7</th>\n",
       "      <td>15889</td>\n",
       "      <td>ind_particular_plus_account</td>\n",
       "      <td>1</td>\n",
       "      <td>0</td>\n",
       "      <td>15</td>\n",
       "    </tr>\n",
       "    <tr>\n",
       "      <th>18</th>\n",
       "      <td>15889</td>\n",
       "      <td>ind_securities</td>\n",
       "      <td>1</td>\n",
       "      <td>0</td>\n",
       "      <td>19</td>\n",
       "    </tr>\n",
       "    <tr>\n",
       "      <th>24</th>\n",
       "      <td>15929</td>\n",
       "      <td>ind_current_account</td>\n",
       "      <td>1</td>\n",
       "      <td>1</td>\n",
       "      <td>1</td>\n",
       "    </tr>\n",
       "    <tr>\n",
       "      <th>29</th>\n",
       "      <td>15929</td>\n",
       "      <td>ind_particular_plus_account</td>\n",
       "      <td>1</td>\n",
       "      <td>1</td>\n",
       "      <td>15</td>\n",
       "    </tr>\n",
       "    <tr>\n",
       "      <th>33</th>\n",
       "      <td>15929</td>\n",
       "      <td>ind_eaccount</td>\n",
       "      <td>1</td>\n",
       "      <td>1</td>\n",
       "      <td>4</td>\n",
       "    </tr>\n",
       "    <tr>\n",
       "      <th>39</th>\n",
       "      <td>15929</td>\n",
       "      <td>ind_credit_cards</td>\n",
       "      <td>1</td>\n",
       "      <td>1</td>\n",
       "      <td>0</td>\n",
       "    </tr>\n",
       "    <tr>\n",
       "      <th>40</th>\n",
       "      <td>15929</td>\n",
       "      <td>ind_securities</td>\n",
       "      <td>1</td>\n",
       "      <td>1</td>\n",
       "      <td>19</td>\n",
       "    </tr>\n",
       "    <tr>\n",
       "      <th>46</th>\n",
       "      <td>15952</td>\n",
       "      <td>ind_current_account</td>\n",
       "      <td>1</td>\n",
       "      <td>2</td>\n",
       "      <td>1</td>\n",
       "    </tr>\n",
       "    <tr>\n",
       "      <th>60</th>\n",
       "      <td>15952</td>\n",
       "      <td>ind_taxes</td>\n",
       "      <td>1</td>\n",
       "      <td>2</td>\n",
       "      <td>21</td>\n",
       "    </tr>\n",
       "  </tbody>\n",
       "</table>\n",
       "</div>"
      ],
      "text/plain": [
       "   customer_code                      account  ownership  customer_code_id  \\\n",
       "2          15889          ind_current_account          1                 0   \n",
       "7          15889  ind_particular_plus_account          1                 0   \n",
       "18         15889               ind_securities          1                 0   \n",
       "24         15929          ind_current_account          1                 1   \n",
       "29         15929  ind_particular_plus_account          1                 1   \n",
       "33         15929                 ind_eaccount          1                 1   \n",
       "39         15929             ind_credit_cards          1                 1   \n",
       "40         15929               ind_securities          1                 1   \n",
       "46         15952          ind_current_account          1                 2   \n",
       "60         15952                    ind_taxes          1                 2   \n",
       "\n",
       "    account_id  \n",
       "2            1  \n",
       "7           15  \n",
       "18          19  \n",
       "24           1  \n",
       "29          15  \n",
       "33           4  \n",
       "39           0  \n",
       "40          19  \n",
       "46           1  \n",
       "60          21  "
      ]
     },
     "execution_count": 9,
     "metadata": {},
     "output_type": "execute_result"
    }
   ],
   "source": [
    "# Drop NaN columns\n",
    "data = traindata.dropna()\n",
    "data = data.copy()\n",
    "\n",
    "# Create a numeric user_id and account_id column\n",
    "data['customer_code'] = data['customer_code'].astype(\"category\")\n",
    "data['account'] = data['account'].astype(\"category\")\n",
    "data['customer_code_id'] = data['customer_code'].cat.codes\n",
    "data['account_id'] = data['account'].cat.codes\n",
    "data.head(10)"
   ]
  },
  {
   "cell_type": "markdown",
   "metadata": {},
   "source": [
    "Create the USER-ITEM matrix and fit the ALS based implicit feedback collaborating filter model"
   ]
  },
  {
   "cell_type": "code",
   "execution_count": 10,
   "metadata": {},
   "outputs": [
    {
     "name": "stderr",
     "output_type": "stream",
     "text": [
      "WARNING:root:Intel MKL BLAS detected. Its highly recommend to set the environment variable 'export MKL_NUM_THREADS=1' to disable its internal multithreading\n",
      "100%|██████████| 1000.0/1000 [00:10<00:00, 93.61it/s]\n"
     ]
    }
   ],
   "source": [
    "# The implicit library expects data as a item-user matrix so we create two matricies, one for fitting the model (item-user) \n",
    "# and one for recommendations (user-item)\n",
    "sparse_item_user = sparse.csr_matrix((data['ownership'].astype(float), (data['account_id'], data['customer_code_id'])))\n",
    "sparse_user_item = sparse.csr_matrix((data['ownership'].astype(float), (data['customer_code_id'], data['account_id'])))\n",
    "\n",
    "# Initialize the als model and fit it using the sparse item-user matrix\n",
    "model = implicit.als.AlternatingLeastSquares(factors=50, regularization=0.1, iterations=1000)\n",
    "\n",
    "# Calculate the confidence by multiplying it by our alpha value.\n",
    "alpha_val = 40\n",
    "data_conf = (sparse_item_user * alpha_val).astype('double')\n",
    "\n",
    "#Fit the model\n",
    "model.fit(data_conf)"
   ]
  },
  {
   "cell_type": "markdown",
   "metadata": {},
   "source": [
    "Create recommendations for each customer and pick the top recommended item by score"
   ]
  },
  {
   "cell_type": "code",
   "execution_count": 11,
   "metadata": {},
   "outputs": [
    {
     "name": "stderr",
     "output_type": "stream",
     "text": [
      "100%|██████████| 10000/10000 [00:27<00:00, 362.88it/s]\n"
     ]
    }
   ],
   "source": [
    "recommend_data = data\n",
    "rec_item=[]\n",
    "rec_item_2=[]\n",
    "rec_item_3=[]\n",
    "rec_item_4=[]\n",
    "rec_item_5=[]\n",
    "\n",
    "cust=[]\n",
    "for i in tqdm(list(recommend_data['customer_code_id'].unique())):\n",
    "    idx, score=model.recommend(i, sparse_user_item,filter_already_liked_items=True,N=5)[0]\n",
    "    cust.append(i)\n",
    "    rec_item.append(recommend_data.account.loc[recommend_data.account_id == idx].iloc[0])\n",
    "    idx, score=model.recommend(i, sparse_user_item,filter_already_liked_items=True,N=5)[1]\n",
    "    rec_item_2.append(recommend_data.account.loc[recommend_data.account_id == idx].iloc[0])\n",
    "    idx, score=model.recommend(i, sparse_user_item,filter_already_liked_items=True,N=5)[2]\n",
    "    rec_item_3.append(recommend_data.account.loc[recommend_data.account_id == idx].iloc[0])\n",
    "    idx, score=model.recommend(i, sparse_user_item,filter_already_liked_items=True,N=5)[3]\n",
    "    rec_item_4.append(recommend_data.account.loc[recommend_data.account_id == idx].iloc[0])\n",
    "    idx, score=model.recommend(i, sparse_user_item,filter_already_liked_items=True,N=5)[4]\n",
    "    rec_item_5.append(recommend_data.account.loc[recommend_data.account_id == idx].iloc[0])"
   ]
  },
  {
   "cell_type": "code",
   "execution_count": 12,
   "metadata": {},
   "outputs": [
    {
     "data": {
      "text/plain": [
       "['ind_mortgage',\n",
       " 'ind_loans',\n",
       " 'ind_particular_account',\n",
       " 'ind_direct_debits',\n",
       " 'ind_credit_cards']"
      ]
     },
     "execution_count": 12,
     "metadata": {},
     "output_type": "execute_result"
    }
   ],
   "source": [
    "rec_item_5[0:5]"
   ]
  },
  {
   "cell_type": "markdown",
   "metadata": {},
   "source": [
    "Plot the most recommended items by the fit model"
   ]
  },
  {
   "cell_type": "code",
   "execution_count": 13,
   "metadata": {},
   "outputs": [
    {
     "data": {
      "text/plain": [
       "(array([ 0,  1,  2,  3,  4,  5,  6,  7,  8,  9, 10, 11, 12, 13, 14, 15, 16,\n",
       "        17, 18]), <a list of 19 Text xticklabel objects>)"
      ]
     },
     "execution_count": 13,
     "metadata": {},
     "output_type": "execute_result"
    },
    {
     "data": {
      "image/png": "[encoded data removed]",
      "text/plain": [
       "<Figure size 1440x360 with 1 Axes>"
      ]
     },
     "metadata": {
      "needs_background": "light"
     },
     "output_type": "display_data"
    }
   ],
   "source": [
    "fig, ax = plt.subplots(figsize=(20,5))\n",
    "sns.countplot(rec_item)\n",
    "plt.xticks(rotation=45)"
   ]
  },
  {
   "cell_type": "markdown",
   "metadata": {},
   "source": [
    "Create a USER-ITEM matrix with only the recommended items to prepare for scoring"
   ]
  },
  {
   "cell_type": "code",
   "execution_count": 14,
   "metadata": {},
   "outputs": [
    {
     "data": {
      "text/html": [
       "<div>\n",
       "<style scoped>\n",
       "    .dataframe tbody tr th:only-of-type {\n",
       "        vertical-align: middle;\n",
       "    }\n",
       "\n",
       "    .dataframe tbody tr th {\n",
       "        vertical-align: top;\n",
       "    }\n",
       "\n",
       "    .dataframe thead th {\n",
       "        text-align: right;\n",
       "    }\n",
       "</style>\n",
       "<table border=\"1\" class=\"dataframe\">\n",
       "  <thead>\n",
       "    <tr style=\"text-align: right;\">\n",
       "      <th>account</th>\n",
       "      <th>ind_savings_account</th>\n",
       "      <th>ind_guarantees</th>\n",
       "      <th>ind_current_account</th>\n",
       "      <th>ind_derivada_account</th>\n",
       "      <th>ind_junior_account</th>\n",
       "      <th>ind_mas_particular_account</th>\n",
       "      <th>ind_particular_account</th>\n",
       "      <th>ind_particular_plus_account</th>\n",
       "      <th>ind_short_term_deposit</th>\n",
       "      <th>ind_medium_term_deposit</th>\n",
       "      <th>...</th>\n",
       "      <th>ind_funds</th>\n",
       "      <th>ind_mortgage</th>\n",
       "      <th>ind_pensions</th>\n",
       "      <th>ind_loans</th>\n",
       "      <th>ind_taxes</th>\n",
       "      <th>ind_credit_cards</th>\n",
       "      <th>ind_securities</th>\n",
       "      <th>ind_home_accounts</th>\n",
       "      <th>ind_payrolls</th>\n",
       "      <th>ind_direct_debits</th>\n",
       "    </tr>\n",
       "    <tr>\n",
       "      <th>customer_code</th>\n",
       "      <th></th>\n",
       "      <th></th>\n",
       "      <th></th>\n",
       "      <th></th>\n",
       "      <th></th>\n",
       "      <th></th>\n",
       "      <th></th>\n",
       "      <th></th>\n",
       "      <th></th>\n",
       "      <th></th>\n",
       "      <th></th>\n",
       "      <th></th>\n",
       "      <th></th>\n",
       "      <th></th>\n",
       "      <th></th>\n",
       "      <th></th>\n",
       "      <th></th>\n",
       "      <th></th>\n",
       "      <th></th>\n",
       "      <th></th>\n",
       "      <th></th>\n",
       "    </tr>\n",
       "  </thead>\n",
       "  <tbody>\n",
       "    <tr>\n",
       "      <th>15889</th>\n",
       "      <td>0.0</td>\n",
       "      <td>0.0</td>\n",
       "      <td>0.0</td>\n",
       "      <td>0.0</td>\n",
       "      <td>0.0</td>\n",
       "      <td>0.0</td>\n",
       "      <td>0.0</td>\n",
       "      <td>0.0</td>\n",
       "      <td>0.0</td>\n",
       "      <td>0.0</td>\n",
       "      <td>...</td>\n",
       "      <td>1.0</td>\n",
       "      <td>0.0</td>\n",
       "      <td>0.0</td>\n",
       "      <td>0.0</td>\n",
       "      <td>0.0</td>\n",
       "      <td>0.0</td>\n",
       "      <td>0.0</td>\n",
       "      <td>0.0</td>\n",
       "      <td>0.0</td>\n",
       "      <td>0.0</td>\n",
       "    </tr>\n",
       "    <tr>\n",
       "      <th>15929</th>\n",
       "      <td>0.0</td>\n",
       "      <td>0.0</td>\n",
       "      <td>0.0</td>\n",
       "      <td>0.0</td>\n",
       "      <td>0.0</td>\n",
       "      <td>0.0</td>\n",
       "      <td>0.0</td>\n",
       "      <td>0.0</td>\n",
       "      <td>0.0</td>\n",
       "      <td>0.0</td>\n",
       "      <td>...</td>\n",
       "      <td>0.0</td>\n",
       "      <td>0.0</td>\n",
       "      <td>0.0</td>\n",
       "      <td>0.0</td>\n",
       "      <td>0.0</td>\n",
       "      <td>0.0</td>\n",
       "      <td>0.0</td>\n",
       "      <td>0.0</td>\n",
       "      <td>1.0</td>\n",
       "      <td>0.0</td>\n",
       "    </tr>\n",
       "    <tr>\n",
       "      <th>15952</th>\n",
       "      <td>0.0</td>\n",
       "      <td>0.0</td>\n",
       "      <td>0.0</td>\n",
       "      <td>0.0</td>\n",
       "      <td>0.0</td>\n",
       "      <td>0.0</td>\n",
       "      <td>0.0</td>\n",
       "      <td>0.0</td>\n",
       "      <td>0.0</td>\n",
       "      <td>0.0</td>\n",
       "      <td>...</td>\n",
       "      <td>0.0</td>\n",
       "      <td>0.0</td>\n",
       "      <td>0.0</td>\n",
       "      <td>0.0</td>\n",
       "      <td>0.0</td>\n",
       "      <td>1.0</td>\n",
       "      <td>0.0</td>\n",
       "      <td>0.0</td>\n",
       "      <td>0.0</td>\n",
       "      <td>0.0</td>\n",
       "    </tr>\n",
       "    <tr>\n",
       "      <th>15988</th>\n",
       "      <td>0.0</td>\n",
       "      <td>0.0</td>\n",
       "      <td>0.0</td>\n",
       "      <td>0.0</td>\n",
       "      <td>0.0</td>\n",
       "      <td>0.0</td>\n",
       "      <td>0.0</td>\n",
       "      <td>0.0</td>\n",
       "      <td>0.0</td>\n",
       "      <td>0.0</td>\n",
       "      <td>...</td>\n",
       "      <td>0.0</td>\n",
       "      <td>0.0</td>\n",
       "      <td>0.0</td>\n",
       "      <td>0.0</td>\n",
       "      <td>0.0</td>\n",
       "      <td>0.0</td>\n",
       "      <td>0.0</td>\n",
       "      <td>0.0</td>\n",
       "      <td>0.0</td>\n",
       "      <td>0.0</td>\n",
       "    </tr>\n",
       "    <tr>\n",
       "      <th>15993</th>\n",
       "      <td>0.0</td>\n",
       "      <td>0.0</td>\n",
       "      <td>0.0</td>\n",
       "      <td>0.0</td>\n",
       "      <td>0.0</td>\n",
       "      <td>0.0</td>\n",
       "      <td>0.0</td>\n",
       "      <td>0.0</td>\n",
       "      <td>0.0</td>\n",
       "      <td>0.0</td>\n",
       "      <td>...</td>\n",
       "      <td>0.0</td>\n",
       "      <td>0.0</td>\n",
       "      <td>1.0</td>\n",
       "      <td>0.0</td>\n",
       "      <td>0.0</td>\n",
       "      <td>0.0</td>\n",
       "      <td>0.0</td>\n",
       "      <td>0.0</td>\n",
       "      <td>0.0</td>\n",
       "      <td>0.0</td>\n",
       "    </tr>\n",
       "  </tbody>\n",
       "</table>\n",
       "<p>5 rows × 22 columns</p>\n",
       "</div>"
      ],
      "text/plain": [
       "account        ind_savings_account  ind_guarantees  ind_current_account  \\\n",
       "customer_code                                                             \n",
       "15889                          0.0             0.0                  0.0   \n",
       "15929                          0.0             0.0                  0.0   \n",
       "15952                          0.0             0.0                  0.0   \n",
       "15988                          0.0             0.0                  0.0   \n",
       "15993                          0.0             0.0                  0.0   \n",
       "\n",
       "account        ind_derivada_account  ind_junior_account  \\\n",
       "customer_code                                             \n",
       "15889                           0.0                 0.0   \n",
       "15929                           0.0                 0.0   \n",
       "15952                           0.0                 0.0   \n",
       "15988                           0.0                 0.0   \n",
       "15993                           0.0                 0.0   \n",
       "\n",
       "account        ind_mas_particular_account  ind_particular_account  \\\n",
       "customer_code                                                       \n",
       "15889                                 0.0                     0.0   \n",
       "15929                                 0.0                     0.0   \n",
       "15952                                 0.0                     0.0   \n",
       "15988                                 0.0                     0.0   \n",
       "15993                                 0.0                     0.0   \n",
       "\n",
       "account        ind_particular_plus_account  ind_short_term_deposit  \\\n",
       "customer_code                                                        \n",
       "15889                                  0.0                     0.0   \n",
       "15929                                  0.0                     0.0   \n",
       "15952                                  0.0                     0.0   \n",
       "15988                                  0.0                     0.0   \n",
       "15993                                  0.0                     0.0   \n",
       "\n",
       "account        ind_medium_term_deposit        ...          ind_funds  \\\n",
       "customer_code                                 ...                      \n",
       "15889                              0.0        ...                1.0   \n",
       "15929                              0.0        ...                0.0   \n",
       "15952                              0.0        ...                0.0   \n",
       "15988                              0.0        ...                0.0   \n",
       "15993                              0.0        ...                0.0   \n",
       "\n",
       "account        ind_mortgage  ind_pensions  ind_loans  ind_taxes  \\\n",
       "customer_code                                                     \n",
       "15889                   0.0           0.0        0.0        0.0   \n",
       "15929                   0.0           0.0        0.0        0.0   \n",
       "15952                   0.0           0.0        0.0        0.0   \n",
       "15988                   0.0           0.0        0.0        0.0   \n",
       "15993                   0.0           1.0        0.0        0.0   \n",
       "\n",
       "account        ind_credit_cards  ind_securities  ind_home_accounts  \\\n",
       "customer_code                                                        \n",
       "15889                       0.0             0.0                0.0   \n",
       "15929                       0.0             0.0                0.0   \n",
       "15952                       1.0             0.0                0.0   \n",
       "15988                       0.0             0.0                0.0   \n",
       "15993                       0.0             0.0                0.0   \n",
       "\n",
       "account        ind_payrolls  ind_direct_debits  \n",
       "customer_code                                   \n",
       "15889                   0.0                0.0  \n",
       "15929                   1.0                0.0  \n",
       "15952                   0.0                0.0  \n",
       "15988                   0.0                0.0  \n",
       "15993                   0.0                0.0  \n",
       "\n",
       "[5 rows x 22 columns]"
      ]
     },
     "execution_count": 14,
     "metadata": {},
     "output_type": "execute_result"
    }
   ],
   "source": [
    "recommendations=pd.DataFrame(list(zip(cust, rec_item)),columns=['customer_code_id','account'])\n",
    "recommendations=pd.merge(recommendations,recommend_data[['customer_code','customer_code_id']],on='customer_code_id')\n",
    "recommendations.drop(['customer_code_id'],axis=1,inplace=True)\n",
    "recommendations['ownership']=1\n",
    "recommendations=recommendations.pivot_table('ownership','customer_code','account')\n",
    "recommendations=recommendations.reindex_axis(['ind_savings_account', 'ind_guarantees',\n",
    "       'ind_current_account', 'ind_derivada_account', 'ind_junior_account',\n",
    "       'ind_mas_particular_account', 'ind_particular_account',\n",
    "       'ind_particular_plus_account', 'ind_short_term_deposit',\n",
    "       'ind_medium_term_deposit', 'ind_long_term_deposit', 'ind_eaccount',\n",
    "       'ind_funds', 'ind_mortgage', 'ind_pensions', 'ind_loans', 'ind_taxes',\n",
    "       'ind_credit_cards', 'ind_securities', 'ind_home_accounts',\n",
    "       'ind_payrolls', 'ind_direct_debits'], axis=1).fillna(0)\n",
    "recommendations=recommendations.sort_index()\n",
    "recommendations.head()"
   ]
  },
  {
   "cell_type": "code",
   "execution_count": 15,
   "metadata": {},
   "outputs": [],
   "source": [
    "recommendations_mat = recommendations.values\n",
    "D=recommendations_mat"
   ]
  },
  {
   "cell_type": "markdown",
   "metadata": {},
   "source": [
    "Negate the already owned accounts in the one but last month and identify the newly added accounts in the last month data for scoring, at this point, the accounts held in one but last month but deactivated in the last month are also ignored."
   ]
  },
  {
   "cell_type": "code",
   "execution_count": 16,
   "metadata": {},
   "outputs": [],
   "source": [
    "acct_cols=['ind_savings_account', 'ind_guarantees', 'ind_current_account', 'ind_derivada_account', 'ind_junior_account',\n",
    " 'ind_mas_particular_account', 'ind_particular_account', 'ind_particular_plus_account', 'ind_short_term_deposit',\n",
    " 'ind_medium_term_deposit', 'ind_long_term_deposit', 'ind_eaccount', 'ind_funds',\n",
    " 'ind_mortgage', 'ind_pensions', 'ind_loans', 'ind_taxes', 'ind_credit_cards', 'ind_securities', \n",
    "'ind_home_accounts', 'ind_payrolls', 'ind_direct_debits']"
   ]
  },
  {
   "cell_type": "code",
   "execution_count": 17,
   "metadata": {},
   "outputs": [],
   "source": [
    "traindata_orig=traindata_orig.sort_values(by='customer_code')\n",
    "testdata=testdata.sort_values(by='customer_code')\n",
    "A=traindata_orig[acct_cols].values\n",
    "B=testdata[acct_cols].values\n",
    "C=B-A\n",
    "C=C.clip(min=0)"
   ]
  },
  {
   "cell_type": "markdown",
   "metadata": {},
   "source": [
    "Compare the predictions product by product and create the confusion matrix and print the scores"
   ]
  },
  {
   "cell_type": "code",
   "execution_count": 18,
   "metadata": {},
   "outputs": [],
   "source": [
    "tn_tot=0\n",
    "fp_tot=0\n",
    "fn_tot=0\n",
    "tp_tot=0\n",
    "for i in range(0,22):\n",
    "    x=confusion_matrix(C[:,i],D[:,i])\n",
    "    if x.shape[0]==2:\n",
    "        tn, fp, fn, tp = x.ravel()\n",
    "        tn_tot+=tn\n",
    "        fp_tot+=fp\n",
    "        fn_tot+=fn\n",
    "        tp_tot+=tp\n",
    "    else:\n",
    "        tn_tot += np.sum(x)"
   ]
  },
  {
   "cell_type": "code",
   "execution_count": 19,
   "metadata": {},
   "outputs": [
    {
     "name": "stdout",
     "output_type": "stream",
     "text": [
      "Results of COLLABORATIVE FILTERING FOR IMPLICIT FEEDBACK - ALTERNATING LEAST SQUARES \n",
      "\n",
      "True Positives =  2328\n",
      "False Negatives =  8493\n",
      "Precision =  23.28 %\n",
      "Recall =  21.51 %\n"
     ]
    }
   ],
   "source": [
    "print('Results of COLLABORATIVE FILTERING FOR IMPLICIT FEEDBACK - ALTERNATING LEAST SQUARES \\n')\n",
    "\n",
    "#print('True Negatives = ',tn_tot)\n",
    "print('True Positives = ',tp_tot)\n",
    "print('False Negatives = ',fn_tot)\n",
    "#print('False Positives = ',fp_tot)\n",
    "\n",
    "recall = tp_tot / (tp_tot + fn_tot)\n",
    "\n",
    "tp_tot_1 = tp_tot\n",
    "fn_tot_1 = fn_tot\n",
    "recall_1 = recall\n",
    "\n",
    "precision_als = []\n",
    "recall_als = []\n",
    "\n",
    "precision_als.append(round((tp_tot/(ncustomers*1))*100,2))\n",
    "recall_als.append(round(recall*100,2))\n",
    "\n",
    "print('Precision = ',round((tp_tot/(ncustomers*1))*100,2),\"%\")\n",
    "print('Recall = ',round(recall*100,2),\"%\")"
   ]
  },
  {
   "cell_type": "markdown",
   "metadata": {},
   "source": [
    "### USER BASED COLLABORATIVE FILTERING FOR BINARY IMPLICIT FEEDBACK"
   ]
  },
  {
   "cell_type": "markdown",
   "metadata": {},
   "source": [
    "Create a data item matrix from the original one but last month data"
   ]
  },
  {
   "cell_type": "code",
   "execution_count": 20,
   "metadata": {},
   "outputs": [
    {
     "data": {
      "text/plain": [
       "Index(['ind_savings_account', 'ind_guarantees', 'ind_current_account',\n",
       "       'ind_derivada_account', 'ind_junior_account',\n",
       "       'ind_mas_particular_account', 'ind_particular_account',\n",
       "       'ind_particular_plus_account', 'ind_short_term_deposit',\n",
       "       'ind_medium_term_deposit', 'ind_long_term_deposit', 'ind_eaccount',\n",
       "       'ind_funds', 'ind_mortgage', 'ind_pensions', 'ind_loans', 'ind_taxes',\n",
       "       'ind_credit_cards', 'ind_securities', 'ind_home_accounts',\n",
       "       'ind_payrolls', 'ind_direct_debits'],\n",
       "      dtype='object')"
      ]
     },
     "execution_count": 20,
     "metadata": {},
     "output_type": "execute_result"
    }
   ],
   "source": [
    "data_items=traindata_orig.copy()\n",
    "data_items=data_items.drop(columns=['customer_code'])\n",
    "data_items.columns"
   ]
  },
  {
   "cell_type": "markdown",
   "metadata": {},
   "source": [
    "Build the USER-USER cosine similarity matrix for each USER pair in the input data (MEMORY INTENSIVE)"
   ]
  },
  {
   "cell_type": "code",
   "execution_count": 21,
   "metadata": {},
   "outputs": [
    {
     "name": "stdout",
     "output_type": "stream",
     "text": [
      "302413    1.0\n",
      "177068    1.0\n",
      "189095    1.0\n",
      "188786    1.0\n",
      "159578    1.0\n",
      "Name: 302413, dtype: float64\n"
     ]
    }
   ],
   "source": [
    "#------------------------\n",
    "# USER_USER CALCULATIONS\n",
    "#------------------------\n",
    "\n",
    "# Normalize the user vectors to unit vectors.\n",
    "# Magnitude = sqrt(x2 + y2 + z2 + ...)\n",
    "magnitude = np.sqrt(np.square(data_items).sum(axis=1))\n",
    "\n",
    "# Unit Vector = (x / magnitude, y / magnitude, z / magnitude, ...)\n",
    "data_items = data_items.divide(magnitude, axis='index')\n",
    "\n",
    "#Function to calculate cosine similarity using a SPARSE matrix\n",
    "data_items_sparse = sparse.csr_matrix(data_items)\n",
    "similarity = data_items_sparse.dot(data_items_sparse.T).toarray()\n",
    "# squared magnitude of preference vectors (number of occurrences)\n",
    "square_mag = np.diag(similarity)\n",
    "# inverse squared magnitude\n",
    "inv_square_mag = 1 / square_mag\n",
    "# if it doesn't occur, set it's inverse magnitude to zero (instead of inf)\n",
    "inv_square_mag[np.isinf(inv_square_mag)] = 0\n",
    "# inverse of the magnitude\n",
    "inv_mag = np.sqrt(inv_square_mag)\n",
    "# cosine similarity (elementwise multiply by inverse magnitudes)\n",
    "cosine = similarity * inv_mag\n",
    "cosine = cosine.T * inv_mag\n",
    "\n",
    "data_matrix= pd.DataFrame(data=cosine, index= data_items.index, columns= data_items.index)\n",
    "\n",
    "# Get the top 5 similar users for 302413\n",
    "print(data_matrix.loc[302413].nlargest(5))"
   ]
  },
  {
   "cell_type": "markdown",
   "metadata": {},
   "source": [
    "Creating recommendations for a sample user"
   ]
  },
  {
   "cell_type": "code",
   "execution_count": 22,
   "metadata": {},
   "outputs": [],
   "source": [
    "#---------------------------------------------------------\n",
    "# USER-ITEM CALCULATIONS - SAMPLE PREDICTION FOR ONE USER\n",
    "#---------------------------------------------------------\n",
    "user = 15889\n",
    "user_index = traindata_orig[traindata_orig.customer_code == user].index.tolist()\n",
    "\n",
    "#Construct a new dataframe with the 500 closest users (most similar) for each user.\n",
    "data_neighbours = pd.DataFrame(index=user_index, columns=range(1,500))\n",
    "\n",
    "data_neighbours.iloc[0,:499] = data_matrix.ix[:,user_index].sort_values(by=user_index,ascending=False)[:499].index"
   ]
  },
  {
   "cell_type": "code",
   "execution_count": 23,
   "metadata": {},
   "outputs": [
    {
     "data": {
      "text/plain": [
       "array(['ind_current_account', 'ind_particular_plus_account',\n",
       "       'ind_securities'], dtype=object)"
      ]
     },
     "execution_count": 23,
     "metadata": {},
     "output_type": "execute_result"
    }
   ],
   "source": [
    "# Get the accounts the user owns already\n",
    "known_user_likes=data_items.ix[user_index[0]]>0\n",
    "known_user_likes = known_user_likes[known_user_likes == True].index.values\n",
    "known_user_likes"
   ]
  },
  {
   "cell_type": "code",
   "execution_count": 24,
   "metadata": {},
   "outputs": [
    {
     "data": {
      "text/html": [
       "<div>\n",
       "<style scoped>\n",
       "    .dataframe tbody tr th:only-of-type {\n",
       "        vertical-align: middle;\n",
       "    }\n",
       "\n",
       "    .dataframe tbody tr th {\n",
       "        vertical-align: top;\n",
       "    }\n",
       "\n",
       "    .dataframe thead th {\n",
       "        text-align: right;\n",
       "    }\n",
       "</style>\n",
       "<table border=\"1\" class=\"dataframe\">\n",
       "  <thead>\n",
       "    <tr style=\"text-align: right;\">\n",
       "      <th></th>\n",
       "      <th>ind_savings_account</th>\n",
       "      <th>ind_guarantees</th>\n",
       "      <th>ind_current_account</th>\n",
       "      <th>ind_derivada_account</th>\n",
       "      <th>ind_junior_account</th>\n",
       "      <th>ind_mas_particular_account</th>\n",
       "      <th>ind_particular_account</th>\n",
       "      <th>ind_particular_plus_account</th>\n",
       "      <th>ind_short_term_deposit</th>\n",
       "      <th>ind_medium_term_deposit</th>\n",
       "      <th>...</th>\n",
       "      <th>ind_funds</th>\n",
       "      <th>ind_mortgage</th>\n",
       "      <th>ind_pensions</th>\n",
       "      <th>ind_loans</th>\n",
       "      <th>ind_taxes</th>\n",
       "      <th>ind_credit_cards</th>\n",
       "      <th>ind_securities</th>\n",
       "      <th>ind_home_accounts</th>\n",
       "      <th>ind_payrolls</th>\n",
       "      <th>ind_direct_debits</th>\n",
       "    </tr>\n",
       "  </thead>\n",
       "  <tbody>\n",
       "    <tr>\n",
       "      <th>12190</th>\n",
       "      <td>0.0</td>\n",
       "      <td>0.0</td>\n",
       "      <td>0.577350</td>\n",
       "      <td>0.0</td>\n",
       "      <td>0.0</td>\n",
       "      <td>0.0</td>\n",
       "      <td>0.0</td>\n",
       "      <td>0.577350</td>\n",
       "      <td>0.0</td>\n",
       "      <td>0.0</td>\n",
       "      <td>...</td>\n",
       "      <td>0.0</td>\n",
       "      <td>0.0</td>\n",
       "      <td>0.0</td>\n",
       "      <td>0.0</td>\n",
       "      <td>0.00000</td>\n",
       "      <td>0.0</td>\n",
       "      <td>0.00000</td>\n",
       "      <td>0.0</td>\n",
       "      <td>0.00000</td>\n",
       "      <td>0.0</td>\n",
       "    </tr>\n",
       "    <tr>\n",
       "      <th>12784</th>\n",
       "      <td>0.0</td>\n",
       "      <td>0.0</td>\n",
       "      <td>0.577350</td>\n",
       "      <td>0.0</td>\n",
       "      <td>0.0</td>\n",
       "      <td>0.0</td>\n",
       "      <td>0.0</td>\n",
       "      <td>0.000000</td>\n",
       "      <td>0.0</td>\n",
       "      <td>0.0</td>\n",
       "      <td>...</td>\n",
       "      <td>0.0</td>\n",
       "      <td>0.0</td>\n",
       "      <td>0.0</td>\n",
       "      <td>0.0</td>\n",
       "      <td>0.00000</td>\n",
       "      <td>0.0</td>\n",
       "      <td>0.57735</td>\n",
       "      <td>0.0</td>\n",
       "      <td>0.00000</td>\n",
       "      <td>0.0</td>\n",
       "    </tr>\n",
       "    <tr>\n",
       "      <th>13513</th>\n",
       "      <td>0.0</td>\n",
       "      <td>0.0</td>\n",
       "      <td>0.000000</td>\n",
       "      <td>0.0</td>\n",
       "      <td>0.0</td>\n",
       "      <td>0.0</td>\n",
       "      <td>0.0</td>\n",
       "      <td>0.577350</td>\n",
       "      <td>0.0</td>\n",
       "      <td>0.0</td>\n",
       "      <td>...</td>\n",
       "      <td>0.0</td>\n",
       "      <td>0.0</td>\n",
       "      <td>0.0</td>\n",
       "      <td>0.0</td>\n",
       "      <td>0.00000</td>\n",
       "      <td>0.0</td>\n",
       "      <td>0.57735</td>\n",
       "      <td>0.0</td>\n",
       "      <td>0.57735</td>\n",
       "      <td>0.0</td>\n",
       "    </tr>\n",
       "    <tr>\n",
       "      <th>15648</th>\n",
       "      <td>0.0</td>\n",
       "      <td>0.0</td>\n",
       "      <td>0.707107</td>\n",
       "      <td>0.0</td>\n",
       "      <td>0.0</td>\n",
       "      <td>0.0</td>\n",
       "      <td>0.0</td>\n",
       "      <td>0.707107</td>\n",
       "      <td>0.0</td>\n",
       "      <td>0.0</td>\n",
       "      <td>...</td>\n",
       "      <td>0.0</td>\n",
       "      <td>0.0</td>\n",
       "      <td>0.0</td>\n",
       "      <td>0.0</td>\n",
       "      <td>0.00000</td>\n",
       "      <td>0.0</td>\n",
       "      <td>0.00000</td>\n",
       "      <td>0.0</td>\n",
       "      <td>0.00000</td>\n",
       "      <td>0.0</td>\n",
       "    </tr>\n",
       "    <tr>\n",
       "      <th>16878</th>\n",
       "      <td>0.0</td>\n",
       "      <td>0.0</td>\n",
       "      <td>0.577350</td>\n",
       "      <td>0.0</td>\n",
       "      <td>0.0</td>\n",
       "      <td>0.0</td>\n",
       "      <td>0.0</td>\n",
       "      <td>0.577350</td>\n",
       "      <td>0.0</td>\n",
       "      <td>0.0</td>\n",
       "      <td>...</td>\n",
       "      <td>0.0</td>\n",
       "      <td>0.0</td>\n",
       "      <td>0.0</td>\n",
       "      <td>0.0</td>\n",
       "      <td>0.57735</td>\n",
       "      <td>0.0</td>\n",
       "      <td>0.00000</td>\n",
       "      <td>0.0</td>\n",
       "      <td>0.00000</td>\n",
       "      <td>0.0</td>\n",
       "    </tr>\n",
       "  </tbody>\n",
       "</table>\n",
       "<p>5 rows × 22 columns</p>\n",
       "</div>"
      ],
      "text/plain": [
       "       ind_savings_account  ind_guarantees  ind_current_account  \\\n",
       "12190                  0.0             0.0             0.577350   \n",
       "12784                  0.0             0.0             0.577350   \n",
       "13513                  0.0             0.0             0.000000   \n",
       "15648                  0.0             0.0             0.707107   \n",
       "16878                  0.0             0.0             0.577350   \n",
       "\n",
       "       ind_derivada_account  ind_junior_account  ind_mas_particular_account  \\\n",
       "12190                   0.0                 0.0                         0.0   \n",
       "12784                   0.0                 0.0                         0.0   \n",
       "13513                   0.0                 0.0                         0.0   \n",
       "15648                   0.0                 0.0                         0.0   \n",
       "16878                   0.0                 0.0                         0.0   \n",
       "\n",
       "       ind_particular_account  ind_particular_plus_account  \\\n",
       "12190                     0.0                     0.577350   \n",
       "12784                     0.0                     0.000000   \n",
       "13513                     0.0                     0.577350   \n",
       "15648                     0.0                     0.707107   \n",
       "16878                     0.0                     0.577350   \n",
       "\n",
       "       ind_short_term_deposit  ind_medium_term_deposit        ...          \\\n",
       "12190                     0.0                      0.0        ...           \n",
       "12784                     0.0                      0.0        ...           \n",
       "13513                     0.0                      0.0        ...           \n",
       "15648                     0.0                      0.0        ...           \n",
       "16878                     0.0                      0.0        ...           \n",
       "\n",
       "       ind_funds  ind_mortgage  ind_pensions  ind_loans  ind_taxes  \\\n",
       "12190        0.0           0.0           0.0        0.0    0.00000   \n",
       "12784        0.0           0.0           0.0        0.0    0.00000   \n",
       "13513        0.0           0.0           0.0        0.0    0.00000   \n",
       "15648        0.0           0.0           0.0        0.0    0.00000   \n",
       "16878        0.0           0.0           0.0        0.0    0.57735   \n",
       "\n",
       "       ind_credit_cards  ind_securities  ind_home_accounts  ind_payrolls  \\\n",
       "12190               0.0         0.00000                0.0       0.00000   \n",
       "12784               0.0         0.57735                0.0       0.00000   \n",
       "13513               0.0         0.57735                0.0       0.57735   \n",
       "15648               0.0         0.00000                0.0       0.00000   \n",
       "16878               0.0         0.00000                0.0       0.00000   \n",
       "\n",
       "       ind_direct_debits  \n",
       "12190                0.0  \n",
       "12784                0.0  \n",
       "13513                0.0  \n",
       "15648                0.0  \n",
       "16878                0.0  \n",
       "\n",
       "[5 rows x 22 columns]"
      ]
     },
     "execution_count": 24,
     "metadata": {},
     "output_type": "execute_result"
    }
   ],
   "source": [
    "# Construct the neighbourhood from the most similar items to the\n",
    "# ones our user has already liked.\n",
    "most_similar_to_likes = data_neighbours.ix[user_index]\n",
    "similar_list = most_similar_to_likes.values.tolist()\n",
    "similar_list = list(set([item for sublist in similar_list for item in sublist]))\n",
    "neighbourhood = data_matrix[user_index].ix[similar_list]\n",
    "similar_user_likes=data_items[data_items.index.isin(similar_list)]\n",
    "similar_user_likes.sort_index(inplace=True)\n",
    "similar_user_likes.head()"
   ]
  },
  {
   "cell_type": "code",
   "execution_count": 25,
   "metadata": {},
   "outputs": [],
   "source": [
    "# Calculate the score\n",
    "score = similar_user_likes.mul(neighbourhood.T.values[0].tolist(),axis=0)\n",
    "score = score.div(neighbourhood.sum(axis=1).T.values.tolist(),axis=0).sum()\n",
    "account = score.drop(known_user_likes).sort_values(ascending=False).index[0]"
   ]
  },
  {
   "cell_type": "markdown",
   "metadata": {},
   "source": [
    "Print the accounts owned by user already and the top 5 predictions by score for the selected user"
   ]
  },
  {
   "cell_type": "code",
   "execution_count": 26,
   "metadata": {},
   "outputs": [
    {
     "name": "stdout",
     "output_type": "stream",
     "text": [
      "The selected user is :  15889 \n",
      "\n",
      "The accounts owned by user already are :  ['ind_current_account' 'ind_particular_plus_account' 'ind_securities'] \n",
      "\n",
      "Top 5 recommendations for the user :\n",
      "\n",
      " ind_particular_account    61.690064\n",
      "ind_eaccount              30.185108\n",
      "ind_direct_debits         27.065356\n",
      "ind_taxes                 22.488597\n",
      "ind_credit_cards          12.652146\n",
      "dtype: float64\n"
     ]
    }
   ],
   "source": [
    "print('The selected user is : ',user,'\\n')\n",
    "print('The accounts owned by user already are : ', known_user_likes,'\\n')\n",
    "print('Top 5 recommendations for the user :\\n\\n', score.drop(known_user_likes).nlargest(5))"
   ]
  },
  {
   "cell_type": "markdown",
   "metadata": {},
   "source": [
    "Looping above process and creating top 5 recommendations for all users"
   ]
  },
  {
   "cell_type": "code",
   "execution_count": 27,
   "metadata": {},
   "outputs": [
    {
     "name": "stderr",
     "output_type": "stream",
     "text": [
      "100%|██████████| 10000/10000 [11:41<00:00, 14.26it/s]\n"
     ]
    }
   ],
   "source": [
    "pred_user = []\n",
    "pred_acc = []\n",
    "pred_acc2 = []\n",
    "pred_acc3 = []\n",
    "pred_acc4 = []\n",
    "pred_acc5 = []\n",
    "\n",
    "for user in tqdm(traindata_orig['customer_code'].tolist()):\n",
    "    user_index = traindata_orig[traindata_orig.customer_code == user].index.tolist()\n",
    "    data_neighbours = pd.DataFrame(index=user_index, columns=range(1,1000))\n",
    "    data_neighbours.iloc[0,:999] = data_matrix.ix[:,user_index].sort_values(by=user_index,ascending=False)[:999].index\n",
    "    known_user_likes=data_items.ix[user_index[0]]>0\n",
    "    known_user_likes = known_user_likes[known_user_likes == True].index.values\n",
    "    most_similar_to_likes = data_neighbours.ix[user_index]\n",
    "    similar_list = most_similar_to_likes.values.tolist()\n",
    "    similar_list = list(set([item for sublist in similar_list for item in sublist]))\n",
    "    neighbourhood = data_matrix[user_index].ix[similar_list]\n",
    "    similar_user_likes=data_items[data_items.index.isin(similar_list)]\n",
    "    similar_user_likes.sort_index(inplace=True)\n",
    "    score = similar_user_likes.mul(neighbourhood.T.values[0].tolist(),axis=0)\n",
    "    score = score.div(neighbourhood.sum(axis=1).T.values.tolist(),axis=0).sum()\n",
    "    account = score.drop(known_user_likes).sort_values(ascending=False).index[0]\n",
    "    account2 = score.drop(known_user_likes).sort_values(ascending=False).index[1]\n",
    "    account3 = score.drop(known_user_likes).sort_values(ascending=False).index[2]\n",
    "    account4 = score.drop(known_user_likes).sort_values(ascending=False).index[3]\n",
    "    account5 = score.drop(known_user_likes).sort_values(ascending=False).index[4]\n",
    "    pred_user.append(user)\n",
    "    pred_acc.append(account)\n",
    "    pred_acc2.append(account2)\n",
    "    pred_acc3.append(account3)\n",
    "    pred_acc4.append(account4)\n",
    "    pred_acc5.append(account5)"
   ]
  },
  {
   "cell_type": "markdown",
   "metadata": {},
   "source": [
    "Plot the most recommended items for all users by the model"
   ]
  },
  {
   "cell_type": "code",
   "execution_count": 28,
   "metadata": {},
   "outputs": [
    {
     "data": {
      "text/plain": [
       "(array([ 0,  1,  2,  3,  4,  5,  6,  7,  8,  9, 10, 11]),\n",
       " <a list of 12 Text xticklabel objects>)"
      ]
     },
     "execution_count": 28,
     "metadata": {},
     "output_type": "execute_result"
    },
    {
     "data": {
      "image/png": "[encoded data removed]",
      "text/plain": [
       "<Figure size 1440x360 with 1 Axes>"
      ]
     },
     "metadata": {
      "needs_background": "light"
     },
     "output_type": "display_data"
    }
   ],
   "source": [
    "fig, ax = plt.subplots(figsize=(20,5))\n",
    "sns.countplot(pred_acc)\n",
    "plt.xticks(rotation=45)"
   ]
  },
  {
   "cell_type": "markdown",
   "metadata": {},
   "source": [
    "Collate the predictions for each user and prepare for scoring"
   ]
  },
  {
   "cell_type": "code",
   "execution_count": 29,
   "metadata": {},
   "outputs": [],
   "source": [
    "recommendations_uu=pd.DataFrame(list(zip(pred_user, pred_acc)),columns=['customer_code','account'])\n",
    "recommendations_uu['ownership']=1\n",
    "recommendations_uu=recommendations_uu.pivot_table('ownership','customer_code','account')\n",
    "recommendations_uu=recommendations_uu.reindex_axis(['ind_savings_account', 'ind_guarantees',\n",
    "       'ind_current_account', 'ind_derivada_account', 'ind_junior_account',\n",
    "       'ind_mas_particular_account', 'ind_particular_account',\n",
    "       'ind_particular_plus_account', 'ind_short_term_deposit',\n",
    "       'ind_medium_term_deposit', 'ind_long_term_deposit', 'ind_eaccount',\n",
    "       'ind_funds', 'ind_mortgage', 'ind_pensions', 'ind_loans', 'ind_taxes',\n",
    "       'ind_credit_cards', 'ind_securities', 'ind_home_accounts',\n",
    "       'ind_payrolls', 'ind_direct_debits'], axis=1).fillna(0)\n",
    "recommendations_uu=recommendations_uu.sort_index()\n",
    "recommendations_uu_mat = recommendations_uu.values\n",
    "J=recommendations_uu_mat"
   ]
  },
  {
   "cell_type": "markdown",
   "metadata": {},
   "source": [
    "Compare the predictions product by product and create the confusion matrix and print the scores"
   ]
  },
  {
   "cell_type": "code",
   "execution_count": 30,
   "metadata": {},
   "outputs": [],
   "source": [
    "tn_tot=0\n",
    "fp_tot=0\n",
    "fn_tot=0\n",
    "tp_tot=0\n",
    "for i in range(0,22):\n",
    "    x=confusion_matrix(C[:,i],J[:,i])\n",
    "    if x.shape[0]==2:\n",
    "        tn, fp, fn, tp = x.ravel()\n",
    "        tn_tot+=tn\n",
    "        fp_tot+=fp\n",
    "        fn_tot+=fn\n",
    "        tp_tot+=tp\n",
    "    else:\n",
    "        tn_tot += np.sum(x)"
   ]
  },
  {
   "cell_type": "code",
   "execution_count": 31,
   "metadata": {},
   "outputs": [
    {
     "name": "stdout",
     "output_type": "stream",
     "text": [
      "Results of USER-USER BASED COLLABORATIVE FILTERING FOR BINARY IMPLICIT FEEDBACK \n",
      "\n",
      "True Positives =  3149\n",
      "False Negatives =  7672\n",
      "Precision =  31.49 %\n",
      "Recall =  29.1 %\n"
     ]
    }
   ],
   "source": [
    "print('Results of USER-USER BASED COLLABORATIVE FILTERING FOR BINARY IMPLICIT FEEDBACK \\n')\n",
    "#print('True Negatives = ',tn_tot)\n",
    "print('True Positives = ',tp_tot)\n",
    "print('False Negatives = ',fn_tot)\n",
    "#print('False Positives = ',fp_tot)\n",
    "\n",
    "recall = tp_tot / (tp_tot + fn_tot)\n",
    "\n",
    "tp_tot_2 = tp_tot\n",
    "fn_tot_2 = fn_tot\n",
    "recall_2 = recall\n",
    "\n",
    "precision_uu = []\n",
    "recall_uu = []\n",
    "\n",
    "precision_uu.append(round((tp_tot/(ncustomers*1))*100,2))\n",
    "recall_uu.append(round(recall*100,2))\n",
    "\n",
    "print('Precision = ',round((tp_tot/(ncustomers*1))*100,2),\"%\")\n",
    "print('Recall = ',round(recall*100,2),\"%\")"
   ]
  },
  {
   "cell_type": "markdown",
   "metadata": {},
   "source": [
    "### USER BASED COLLABORATIVE FILTERING FOR BINARY IMPLICIT FEEDBACK ENHANCED BY DEMOGRAPHIC CORRELATIONS"
   ]
  },
  {
   "cell_type": "markdown",
   "metadata": {},
   "source": [
    "Create a copy of the original train data bin the continuous and one hot encode all the categorical demographic features\n",
    "\n",
    "Create a USER-ITEM matrix and a USER-DEMOGRAPHIC MATRIX"
   ]
  },
  {
   "cell_type": "code",
   "execution_count": 32,
   "metadata": {},
   "outputs": [],
   "source": [
    "data_items=traindata_orig.copy()\n",
    "data_items=data_items.drop(columns=['customer_code'])\n",
    "\n",
    "data_users=traindata_copy.copy()\n",
    "data_users.drop(columns=acct_cols,inplace=True)\n",
    "data_users.drop(columns=['customer_type',\n",
    "                         'customer_relation_at_begin','activity_index','province_segment'],inplace=True)\n",
    "\n",
    "data_users = data_users.assign(agebin = pd.qcut(data_users['age'],q=3,duplicates='drop'))\n",
    "data_users = data_users.assign(senioritybin = pd.qcut(data_users['seniority'],q=3,duplicates='drop'))\n",
    "data_users = data_users.assign(incbin = pd.qcut(data_users['gross_income'],q=3,duplicates='drop'))\n",
    "data_users = data_users.assign(accbin = pd.qcut(data_users['no_of_accounts'],q=3,duplicates='drop'))\n",
    "\n",
    "data_users.drop(columns=['age','seniority','gross_income','no_of_accounts'],inplace=True)\n",
    "\n",
    "\n",
    "# let's one hot encode the remaining categorical features\n",
    "ohe_features = ['sex', 'agebin', 'new_customer_index','senioritybin', \n",
    "                'foreign_index','province_name','incbin','segmentation','accbin']\n",
    "data_users = pd.get_dummies(data_users, \n",
    "                              drop_first=False,\n",
    "                              columns=ohe_features)\n",
    "\n",
    "data_users.drop(columns=['customer_code'],inplace=True)"
   ]
  },
  {
   "cell_type": "markdown",
   "metadata": {},
   "source": [
    "Create two USER-USER cosine similarity matrices one based on the USER-ITEM interactions and one based on USER-DEMOGRAPHICS"
   ]
  },
  {
   "cell_type": "code",
   "execution_count": 33,
   "metadata": {},
   "outputs": [
    {
     "name": "stdout",
     "output_type": "stream",
     "text": [
      "302413    1.0\n",
      "177068    1.0\n",
      "189095    1.0\n",
      "188786    1.0\n",
      "159578    1.0\n",
      "Name: 302413, dtype: float64\n",
      "302413    1.0\n",
      "295710    1.0\n",
      "295756    1.0\n",
      "295295    1.0\n",
      "296314    1.0\n",
      "Name: 302413, dtype: float64\n"
     ]
    }
   ],
   "source": [
    "#------------------------\n",
    "# USER_USER CALCULATIONS\n",
    "#------------------------\n",
    "\n",
    "#Normalize the user vectors to unit vectors.\n",
    "\n",
    "# magnitude = sqrt(x2 + y2 + z2 + ...)\n",
    "magnitude = np.sqrt(np.square(data_items).sum(axis=1))\n",
    "# unitvector = (x / magnitude, y / magnitude, z / magnitude, ...)\n",
    "data_items = data_items.divide(magnitude, axis='index')\n",
    "# magnitude = sqrt(x2 + y2 + z2 + ...)\n",
    "magnitude = np.sqrt(np.square(data_users).sum(axis=1))\n",
    "# unitvector = (x / magnitude, y / magnitude, z / magnitude, ...)\n",
    "data_users = data_users.divide(magnitude, axis='index')\n",
    "\n",
    "def calculate_similarity(data_items):\n",
    "    \"\"\"Calculate the column-wise cosine similarity for a sparse\n",
    "    matrix. Return a new dataframe matrix with similarities.\n",
    "    \"\"\"\n",
    "    data_sparse = sparse.csr_matrix(data_items)\n",
    "    similarities = cosine_similarity(data_sparse)\n",
    "    sim = pd.DataFrame(data=similarities, index= data_items.index, columns= data_items.index)\n",
    "    return sim\n",
    "\n",
    "# Build the similarity matrix\n",
    "data_matrix = calculate_similarity(data_items)\n",
    "\n",
    "data_matrix_demo = calculate_similarity(data_users)\n",
    "\n",
    "# Get the top 5 similar users by products\n",
    "print(data_matrix.loc[302413].nlargest(5))\n",
    "\n",
    "# Get the top 5 similar users by demography\n",
    "print(data_matrix_demo.loc[302413].nlargest(5))"
   ]
  },
  {
   "cell_type": "markdown",
   "metadata": {},
   "source": [
    "Calculate the demography enhanced USER-USER correlation scores"
   ]
  },
  {
   "cell_type": "code",
   "execution_count": 34,
   "metadata": {},
   "outputs": [],
   "source": [
    "data_matrix = data_matrix + (data_matrix * data_matrix_demo)"
   ]
  },
  {
   "cell_type": "markdown",
   "metadata": {},
   "source": [
    "Create sample recommendations for a user"
   ]
  },
  {
   "cell_type": "code",
   "execution_count": 35,
   "metadata": {},
   "outputs": [],
   "source": [
    "#------------------------\n",
    "# USER-ITEM CALCULATIONS\n",
    "#------------------------\n",
    "user = 15889\n",
    "\n",
    "user_index = traindata_orig[traindata_orig.customer_code == user].index.tolist()\n",
    "\n",
    "#Construct a new dataframe with the 500 closest neighbours (most similar) for each user.\n",
    "data_neighbours = pd.DataFrame(index=user_index, columns=range(1,500))\n",
    "\n",
    "data_neighbours.iloc[0,:499] = data_matrix.ix[:,user_index].sort_values(by=user_index,ascending=False)[:499].index"
   ]
  },
  {
   "cell_type": "code",
   "execution_count": 36,
   "metadata": {},
   "outputs": [
    {
     "data": {
      "text/plain": [
       "array(['ind_current_account', 'ind_particular_plus_account',\n",
       "       'ind_securities'], dtype=object)"
      ]
     },
     "execution_count": 36,
     "metadata": {},
     "output_type": "execute_result"
    }
   ],
   "source": [
    "# Get the accounts owned by the user.\n",
    "known_user_likes=data_items.ix[user_index[0]]>0\n",
    "known_user_likes = known_user_likes[known_user_likes == True].index.values\n",
    "known_user_likes"
   ]
  },
  {
   "cell_type": "code",
   "execution_count": 37,
   "metadata": {},
   "outputs": [
    {
     "data": {
      "text/html": [
       "<div>\n",
       "<style scoped>\n",
       "    .dataframe tbody tr th:only-of-type {\n",
       "        vertical-align: middle;\n",
       "    }\n",
       "\n",
       "    .dataframe tbody tr th {\n",
       "        vertical-align: top;\n",
       "    }\n",
       "\n",
       "    .dataframe thead th {\n",
       "        text-align: right;\n",
       "    }\n",
       "</style>\n",
       "<table border=\"1\" class=\"dataframe\">\n",
       "  <thead>\n",
       "    <tr style=\"text-align: right;\">\n",
       "      <th></th>\n",
       "      <th>ind_savings_account</th>\n",
       "      <th>ind_guarantees</th>\n",
       "      <th>ind_current_account</th>\n",
       "      <th>ind_derivada_account</th>\n",
       "      <th>ind_junior_account</th>\n",
       "      <th>ind_mas_particular_account</th>\n",
       "      <th>ind_particular_account</th>\n",
       "      <th>ind_particular_plus_account</th>\n",
       "      <th>ind_short_term_deposit</th>\n",
       "      <th>ind_medium_term_deposit</th>\n",
       "      <th>...</th>\n",
       "      <th>ind_funds</th>\n",
       "      <th>ind_mortgage</th>\n",
       "      <th>ind_pensions</th>\n",
       "      <th>ind_loans</th>\n",
       "      <th>ind_taxes</th>\n",
       "      <th>ind_credit_cards</th>\n",
       "      <th>ind_securities</th>\n",
       "      <th>ind_home_accounts</th>\n",
       "      <th>ind_payrolls</th>\n",
       "      <th>ind_direct_debits</th>\n",
       "    </tr>\n",
       "  </thead>\n",
       "  <tbody>\n",
       "    <tr>\n",
       "      <th>12190</th>\n",
       "      <td>0.0</td>\n",
       "      <td>0.0</td>\n",
       "      <td>0.577350</td>\n",
       "      <td>0.0</td>\n",
       "      <td>0.0</td>\n",
       "      <td>0.0</td>\n",
       "      <td>0.0</td>\n",
       "      <td>0.577350</td>\n",
       "      <td>0.0</td>\n",
       "      <td>0.0</td>\n",
       "      <td>...</td>\n",
       "      <td>0.0</td>\n",
       "      <td>0.0</td>\n",
       "      <td>0.0</td>\n",
       "      <td>0.0</td>\n",
       "      <td>0.0</td>\n",
       "      <td>0.0</td>\n",
       "      <td>0.00000</td>\n",
       "      <td>0.0</td>\n",
       "      <td>0.00000</td>\n",
       "      <td>0.0</td>\n",
       "    </tr>\n",
       "    <tr>\n",
       "      <th>13513</th>\n",
       "      <td>0.0</td>\n",
       "      <td>0.0</td>\n",
       "      <td>0.000000</td>\n",
       "      <td>0.0</td>\n",
       "      <td>0.0</td>\n",
       "      <td>0.0</td>\n",
       "      <td>0.0</td>\n",
       "      <td>0.577350</td>\n",
       "      <td>0.0</td>\n",
       "      <td>0.0</td>\n",
       "      <td>...</td>\n",
       "      <td>0.0</td>\n",
       "      <td>0.0</td>\n",
       "      <td>0.0</td>\n",
       "      <td>0.0</td>\n",
       "      <td>0.0</td>\n",
       "      <td>0.0</td>\n",
       "      <td>0.57735</td>\n",
       "      <td>0.0</td>\n",
       "      <td>0.57735</td>\n",
       "      <td>0.0</td>\n",
       "    </tr>\n",
       "    <tr>\n",
       "      <th>14015</th>\n",
       "      <td>0.0</td>\n",
       "      <td>0.0</td>\n",
       "      <td>0.577350</td>\n",
       "      <td>0.0</td>\n",
       "      <td>0.0</td>\n",
       "      <td>0.0</td>\n",
       "      <td>0.0</td>\n",
       "      <td>0.577350</td>\n",
       "      <td>0.0</td>\n",
       "      <td>0.0</td>\n",
       "      <td>...</td>\n",
       "      <td>0.0</td>\n",
       "      <td>0.0</td>\n",
       "      <td>0.0</td>\n",
       "      <td>0.0</td>\n",
       "      <td>0.0</td>\n",
       "      <td>0.0</td>\n",
       "      <td>0.00000</td>\n",
       "      <td>0.0</td>\n",
       "      <td>0.00000</td>\n",
       "      <td>0.0</td>\n",
       "    </tr>\n",
       "    <tr>\n",
       "      <th>15648</th>\n",
       "      <td>0.0</td>\n",
       "      <td>0.0</td>\n",
       "      <td>0.707107</td>\n",
       "      <td>0.0</td>\n",
       "      <td>0.0</td>\n",
       "      <td>0.0</td>\n",
       "      <td>0.0</td>\n",
       "      <td>0.707107</td>\n",
       "      <td>0.0</td>\n",
       "      <td>0.0</td>\n",
       "      <td>...</td>\n",
       "      <td>0.0</td>\n",
       "      <td>0.0</td>\n",
       "      <td>0.0</td>\n",
       "      <td>0.0</td>\n",
       "      <td>0.0</td>\n",
       "      <td>0.0</td>\n",
       "      <td>0.00000</td>\n",
       "      <td>0.0</td>\n",
       "      <td>0.00000</td>\n",
       "      <td>0.0</td>\n",
       "    </tr>\n",
       "    <tr>\n",
       "      <th>17103</th>\n",
       "      <td>0.0</td>\n",
       "      <td>0.0</td>\n",
       "      <td>0.707107</td>\n",
       "      <td>0.0</td>\n",
       "      <td>0.0</td>\n",
       "      <td>0.0</td>\n",
       "      <td>0.0</td>\n",
       "      <td>0.707107</td>\n",
       "      <td>0.0</td>\n",
       "      <td>0.0</td>\n",
       "      <td>...</td>\n",
       "      <td>0.0</td>\n",
       "      <td>0.0</td>\n",
       "      <td>0.0</td>\n",
       "      <td>0.0</td>\n",
       "      <td>0.0</td>\n",
       "      <td>0.0</td>\n",
       "      <td>0.00000</td>\n",
       "      <td>0.0</td>\n",
       "      <td>0.00000</td>\n",
       "      <td>0.0</td>\n",
       "    </tr>\n",
       "  </tbody>\n",
       "</table>\n",
       "<p>5 rows × 22 columns</p>\n",
       "</div>"
      ],
      "text/plain": [
       "       ind_savings_account  ind_guarantees  ind_current_account  \\\n",
       "12190                  0.0             0.0             0.577350   \n",
       "13513                  0.0             0.0             0.000000   \n",
       "14015                  0.0             0.0             0.577350   \n",
       "15648                  0.0             0.0             0.707107   \n",
       "17103                  0.0             0.0             0.707107   \n",
       "\n",
       "       ind_derivada_account  ind_junior_account  ind_mas_particular_account  \\\n",
       "12190                   0.0                 0.0                         0.0   \n",
       "13513                   0.0                 0.0                         0.0   \n",
       "14015                   0.0                 0.0                         0.0   \n",
       "15648                   0.0                 0.0                         0.0   \n",
       "17103                   0.0                 0.0                         0.0   \n",
       "\n",
       "       ind_particular_account  ind_particular_plus_account  \\\n",
       "12190                     0.0                     0.577350   \n",
       "13513                     0.0                     0.577350   \n",
       "14015                     0.0                     0.577350   \n",
       "15648                     0.0                     0.707107   \n",
       "17103                     0.0                     0.707107   \n",
       "\n",
       "       ind_short_term_deposit  ind_medium_term_deposit        ...          \\\n",
       "12190                     0.0                      0.0        ...           \n",
       "13513                     0.0                      0.0        ...           \n",
       "14015                     0.0                      0.0        ...           \n",
       "15648                     0.0                      0.0        ...           \n",
       "17103                     0.0                      0.0        ...           \n",
       "\n",
       "       ind_funds  ind_mortgage  ind_pensions  ind_loans  ind_taxes  \\\n",
       "12190        0.0           0.0           0.0        0.0        0.0   \n",
       "13513        0.0           0.0           0.0        0.0        0.0   \n",
       "14015        0.0           0.0           0.0        0.0        0.0   \n",
       "15648        0.0           0.0           0.0        0.0        0.0   \n",
       "17103        0.0           0.0           0.0        0.0        0.0   \n",
       "\n",
       "       ind_credit_cards  ind_securities  ind_home_accounts  ind_payrolls  \\\n",
       "12190               0.0         0.00000                0.0       0.00000   \n",
       "13513               0.0         0.57735                0.0       0.57735   \n",
       "14015               0.0         0.00000                0.0       0.00000   \n",
       "15648               0.0         0.00000                0.0       0.00000   \n",
       "17103               0.0         0.00000                0.0       0.00000   \n",
       "\n",
       "       ind_direct_debits  \n",
       "12190                0.0  \n",
       "13513                0.0  \n",
       "14015                0.0  \n",
       "15648                0.0  \n",
       "17103                0.0  \n",
       "\n",
       "[5 rows x 22 columns]"
      ]
     },
     "execution_count": 37,
     "metadata": {},
     "output_type": "execute_result"
    }
   ],
   "source": [
    "# Construct the neighbourhood from the most similar users to the\n",
    "# ones our user has already liked.\n",
    "most_similar_to_likes = data_neighbours.ix[user_index]\n",
    "similar_list = most_similar_to_likes.values.tolist()\n",
    "similar_list = list(set([item for sublist in similar_list for item in sublist]))\n",
    "neighbourhood = data_matrix[user_index].ix[similar_list]\n",
    "similar_user_likes=data_items[data_items.index.isin(similar_list)]\n",
    "similar_user_likes.sort_index(inplace=True)\n",
    "similar_user_likes.head()"
   ]
  },
  {
   "cell_type": "code",
   "execution_count": 38,
   "metadata": {},
   "outputs": [],
   "source": [
    "# Calculate the score.\n",
    "score = similar_user_likes.mul(neighbourhood.T.values[0].tolist(),axis=0)\n",
    "score = score.div(neighbourhood.sum(axis=1).T.values.tolist(),axis=0).sum()\n",
    "account = score.drop(known_user_likes).sort_values(ascending=False).index[0]"
   ]
  },
  {
   "cell_type": "markdown",
   "metadata": {},
   "source": [
    "Print the top 5 predictions for the selected user"
   ]
  },
  {
   "cell_type": "code",
   "execution_count": 39,
   "metadata": {},
   "outputs": [
    {
     "name": "stdout",
     "output_type": "stream",
     "text": [
      "The selected user is :  15889 \n",
      "\n",
      "The accounts owned by user already are :  ['ind_current_account' 'ind_particular_plus_account' 'ind_securities'] \n",
      "\n",
      "Top 5 recommendations for the user :\n",
      "\n",
      " ind_particular_account    60.516354\n",
      "ind_eaccount              38.322308\n",
      "ind_direct_debits         27.428048\n",
      "ind_taxes                 23.099650\n",
      "ind_long_term_deposit     16.183255\n",
      "dtype: float64\n"
     ]
    }
   ],
   "source": [
    "print('The selected user is : ',user,'\\n')\n",
    "print('The accounts owned by user already are : ', known_user_likes,'\\n')\n",
    "print('Top 5 recommendations for the user :\\n\\n', score.drop(known_user_likes).nlargest(5))"
   ]
  },
  {
   "cell_type": "markdown",
   "metadata": {},
   "source": [
    "Loop the above steps and create top 5 recommendations for each user"
   ]
  },
  {
   "cell_type": "code",
   "execution_count": 40,
   "metadata": {},
   "outputs": [
    {
     "name": "stderr",
     "output_type": "stream",
     "text": [
      "100%|██████████| 10000/10000 [15:34<00:00, 13.18it/s]\n"
     ]
    }
   ],
   "source": [
    "pred_user = []\n",
    "pred_acct = []\n",
    "pred_acct2 = []\n",
    "pred_acct3 = []\n",
    "pred_acct4 = []\n",
    "pred_acct5 = []\n",
    "\n",
    "for user in tqdm(traindata_orig['customer_code'].tolist()):\n",
    "#for user in tqdm(traindata['customer_code'].tolist()):\n",
    "    user_index = traindata_orig[traindata_orig.customer_code == user].index.tolist()\n",
    "    data_neighbours = pd.DataFrame(index=user_index, columns=range(1,1000))\n",
    "    data_neighbours.iloc[0,:999] = data_matrix.ix[:,user_index].sort_values(by=user_index,ascending=False)[:999].index\n",
    "    known_user_likes=data_items.ix[user_index[0]]>0\n",
    "    known_user_likes = known_user_likes[known_user_likes == True].index.values\n",
    "    most_similar_to_likes = data_neighbours.ix[user_index]\n",
    "    similar_list = most_similar_to_likes.values.tolist()\n",
    "    similar_list = list(set([item for sublist in similar_list for item in sublist]))\n",
    "    neighbourhood = data_matrix[user_index].ix[similar_list]\n",
    "    similar_user_likes=data_items[data_items.index.isin(similar_list)]\n",
    "    similar_user_likes.sort_index(inplace=True)\n",
    "    score = similar_user_likes.mul(neighbourhood.T.values[0].tolist(),axis=0)\n",
    "    score = score.div(neighbourhood.sum(axis=1).T.values.tolist(),axis=0).sum()\n",
    "    account = score.drop(known_user_likes).sort_values(ascending=False).index[0]\n",
    "    account2 = score.drop(known_user_likes).sort_values(ascending=False).index[1]\n",
    "    account3 = score.drop(known_user_likes).sort_values(ascending=False).index[2]\n",
    "    account4 = score.drop(known_user_likes).sort_values(ascending=False).index[3]\n",
    "    account5 = score.drop(known_user_likes).sort_values(ascending=False).index[4]\n",
    "    pred_user.append(user)\n",
    "    pred_acct.append(account)\n",
    "    pred_acct2.append(account2)\n",
    "    pred_acct3.append(account3)\n",
    "    pred_acct4.append(account4)\n",
    "    pred_acct5.append(account5)"
   ]
  },
  {
   "cell_type": "markdown",
   "metadata": {},
   "source": [
    "Plot the top recommended items for all users"
   ]
  },
  {
   "cell_type": "code",
   "execution_count": 41,
   "metadata": {},
   "outputs": [
    {
     "data": {
      "text/plain": [
       "(array([ 0,  1,  2,  3,  4,  5,  6,  7,  8,  9, 10, 11]),\n",
       " <a list of 12 Text xticklabel objects>)"
      ]
     },
     "execution_count": 41,
     "metadata": {},
     "output_type": "execute_result"
    },
    {
     "data": {
      "image/png": "[encoded data removed]",
      "text/plain": [
       "<Figure size 1440x360 with 1 Axes>"
      ]
     },
     "metadata": {
      "needs_background": "light"
     },
     "output_type": "display_data"
    }
   ],
   "source": [
    "fig, ax = plt.subplots(figsize=(20,5))\n",
    "sns.countplot(pred_acct)\n",
    "plt.xticks(rotation=45)"
   ]
  },
  {
   "cell_type": "markdown",
   "metadata": {},
   "source": [
    "Collate the predictions for each user and prepare for scoring"
   ]
  },
  {
   "cell_type": "code",
   "execution_count": 42,
   "metadata": {},
   "outputs": [],
   "source": [
    "recommendations_uu=pd.DataFrame(list(zip(pred_user, pred_acct)),columns=['customer_code','account'])\n",
    "recommendations_uu['ownership']=1\n",
    "recommendations_uu=recommendations_uu.pivot_table('ownership','customer_code','account')\n",
    "recommendations_uu=recommendations_uu.reindex_axis(['ind_savings_account', 'ind_guarantees',\n",
    "       'ind_current_account', 'ind_derivada_account', 'ind_junior_account',\n",
    "       'ind_mas_particular_account', 'ind_particular_account',\n",
    "       'ind_particular_plus_account', 'ind_short_term_deposit',\n",
    "       'ind_medium_term_deposit', 'ind_long_term_deposit', 'ind_eaccount',\n",
    "       'ind_funds', 'ind_mortgage', 'ind_pensions', 'ind_loans', 'ind_taxes',\n",
    "       'ind_credit_cards', 'ind_securities', 'ind_home_accounts',\n",
    "       'ind_payrolls', 'ind_direct_debits'], axis=1).fillna(0)\n",
    "recommendations_uu=recommendations_uu.sort_index()\n",
    "recommendations_uu_mat = recommendations_uu.values\n",
    "K=recommendations_uu_mat"
   ]
  },
  {
   "cell_type": "code",
   "execution_count": 43,
   "metadata": {},
   "outputs": [],
   "source": [
    "tn_tot=0\n",
    "fp_tot=0\n",
    "fn_tot=0\n",
    "tp_tot=0\n",
    "for i in range(0,22):\n",
    "    x=confusion_matrix(C[:,i],K[:,i])\n",
    "    if x.shape[0]==2:\n",
    "        tn, fp, fn, tp = x.ravel()\n",
    "        tn_tot+=tn\n",
    "        fp_tot+=fp\n",
    "        fn_tot+=fn\n",
    "        tp_tot+=tp\n",
    "    else:\n",
    "        tn_tot += np.sum(x)"
   ]
  },
  {
   "cell_type": "markdown",
   "metadata": {},
   "source": [
    "Compare the predictions product by product and create the confusion matrix and print the scores"
   ]
  },
  {
   "cell_type": "code",
   "execution_count": 44,
   "metadata": {},
   "outputs": [
    {
     "name": "stdout",
     "output_type": "stream",
     "text": [
      "Results of USER BASED COLLABORATIVE FILTERING FOR IMPLICIT FEEDBACK WITH DEMOGRAPHIC CORRELATIONS \n",
      "\n",
      "True Positives =  3435\n",
      "False Negatives =  7386\n",
      "Precision =  34.35 %\n",
      "Recall =  31.74 %\n"
     ]
    }
   ],
   "source": [
    "print('Results of USER BASED COLLABORATIVE FILTERING FOR IMPLICIT FEEDBACK WITH DEMOGRAPHIC CORRELATIONS \\n')\n",
    "\n",
    "#print('True Negatives = ',tn_tot)\n",
    "print('True Positives = ',tp_tot)\n",
    "print('False Negatives = ',fn_tot)\n",
    "#print('False Positives = ',fp_tot)\n",
    "\n",
    "recall = tp_tot / (tp_tot + fn_tot)\n",
    "\n",
    "tp_tot_3 = tp_tot\n",
    "fn_tot_3 = fn_tot\n",
    "recall_3 = recall\n",
    "\n",
    "precision_demo = []\n",
    "recall_demo = []\n",
    "\n",
    "precision_demo.append(round((tp_tot/(ncustomers*1))*100,2))\n",
    "recall_demo.append(round(recall*100,2))\n",
    "\n",
    "print('Precision = ',round((tp_tot/(ncustomers*1))*100,2),\"%\")\n",
    "print('Recall = ',round(recall*100,2),\"%\")"
   ]
  },
  {
   "cell_type": "markdown",
   "metadata": {},
   "source": [
    "### Result comparison"
   ]
  },
  {
   "cell_type": "markdown",
   "metadata": {},
   "source": [
    "Precision and Recall @ K = 2"
   ]
  },
  {
   "cell_type": "code",
   "execution_count": 45,
   "metadata": {},
   "outputs": [
    {
     "name": "stdout",
     "output_type": "stream",
     "text": [
      "Results of COLLABORATIVE FILTERING FOR IMPLICIT FEEDBACK - ALTERNATING LEAST SQUARES \n",
      "\n",
      "True Positives =  4755\n",
      "False Negatives =  6066\n",
      "Precision =  23.78 %\n",
      "Recall =  43.94 %\n"
     ]
    }
   ],
   "source": [
    "recommendations=pd.DataFrame(list(zip(cust, rec_item_2)),columns=['customer_code_id','account'])\n",
    "recommendations=pd.merge(recommendations,recommend_data[['customer_code','customer_code_id']],on='customer_code_id')\n",
    "recommendations.drop(['customer_code_id'],axis=1,inplace=True)\n",
    "recommendations['ownership']=1\n",
    "recommendations=recommendations.pivot_table('ownership','customer_code','account')\n",
    "recommendations=recommendations.reindex_axis(['ind_savings_account', 'ind_guarantees',\n",
    "       'ind_current_account', 'ind_derivada_account', 'ind_junior_account',\n",
    "       'ind_mas_particular_account', 'ind_particular_account',\n",
    "       'ind_particular_plus_account', 'ind_short_term_deposit',\n",
    "       'ind_medium_term_deposit', 'ind_long_term_deposit', 'ind_eaccount',\n",
    "       'ind_funds', 'ind_mortgage', 'ind_pensions', 'ind_loans', 'ind_taxes',\n",
    "       'ind_credit_cards', 'ind_securities', 'ind_home_accounts',\n",
    "       'ind_payrolls', 'ind_direct_debits'], axis=1).fillna(0)\n",
    "recommendations=recommendations.sort_index()\n",
    "recommendations_mat = recommendations.values\n",
    "D+=recommendations_mat\n",
    "\n",
    "tn_tot=0\n",
    "fp_tot=0\n",
    "fn_tot=0\n",
    "tp_tot=0\n",
    "for i in range(0,22):\n",
    "    x=confusion_matrix(C[:,i],D[:,i])\n",
    "    if x.shape[0]==2:\n",
    "        tn, fp, fn, tp = x.ravel()\n",
    "        tn_tot+=tn\n",
    "        fp_tot+=fp\n",
    "        fn_tot+=fn\n",
    "        tp_tot+=tp\n",
    "    else:\n",
    "        tn_tot += np.sum(x)\n",
    "\n",
    "print('Results of COLLABORATIVE FILTERING FOR IMPLICIT FEEDBACK - ALTERNATING LEAST SQUARES \\n')\n",
    "\n",
    "#print('True Negatives = ',tn_tot)\n",
    "print('True Positives = ',tp_tot)\n",
    "print('False Negatives = ',fn_tot)\n",
    "#print('False Positives = ',fp_tot)\n",
    "\n",
    "recall = tp_tot / (tp_tot + fn_tot)\n",
    "\n",
    "precision_als.append(round((tp_tot/(ncustomers*2))*100,2))\n",
    "recall_als.append(round(recall*100,2))\n",
    "\n",
    "print('Precision = ',round((tp_tot/(ncustomers*2))*100,2),\"%\")\n",
    "print('Recall = ',round(recall*100,2),\"%\")"
   ]
  },
  {
   "cell_type": "code",
   "execution_count": 46,
   "metadata": {},
   "outputs": [
    {
     "name": "stdout",
     "output_type": "stream",
     "text": [
      "Results of USER-USER BASED COLLABORATIVE FILTERING FOR BINARY IMPLICIT FEEDBACK \n",
      "\n",
      "True Positives =  5809\n",
      "False Negatives =  5012\n",
      "Precision =  29.04 %\n",
      "Recall =  53.68 %\n"
     ]
    }
   ],
   "source": [
    "recommendations_uu=pd.DataFrame(list(zip(pred_user, pred_acc2)),columns=['customer_code','account'])\n",
    "recommendations_uu['ownership']=1\n",
    "recommendations_uu=recommendations_uu.pivot_table('ownership','customer_code','account')\n",
    "recommendations_uu=recommendations_uu.reindex_axis(['ind_savings_account', 'ind_guarantees',\n",
    "       'ind_current_account', 'ind_derivada_account', 'ind_junior_account',\n",
    "       'ind_mas_particular_account', 'ind_particular_account',\n",
    "       'ind_particular_plus_account', 'ind_short_term_deposit',\n",
    "       'ind_medium_term_deposit', 'ind_long_term_deposit', 'ind_eaccount',\n",
    "       'ind_funds', 'ind_mortgage', 'ind_pensions', 'ind_loans', 'ind_taxes',\n",
    "       'ind_credit_cards', 'ind_securities', 'ind_home_accounts',\n",
    "       'ind_payrolls', 'ind_direct_debits'], axis=1).fillna(0)\n",
    "recommendations_uu=recommendations_uu.sort_index()\n",
    "recommendations_uu_mat = recommendations_uu.values\n",
    "J+=recommendations_uu_mat\n",
    "\n",
    "tn_tot=0\n",
    "fp_tot=0\n",
    "fn_tot=0\n",
    "tp_tot=0\n",
    "for i in range(0,22):\n",
    "    x=confusion_matrix(C[:,i],J[:,i])\n",
    "    if x.shape[0]==2:\n",
    "        tn, fp, fn, tp = x.ravel()\n",
    "        tn_tot+=tn\n",
    "        fp_tot+=fp\n",
    "        fn_tot+=fn\n",
    "        tp_tot+=tp\n",
    "    else:\n",
    "        tn_tot += np.sum(x)\n",
    "        \n",
    "print('Results of USER-USER BASED COLLABORATIVE FILTERING FOR BINARY IMPLICIT FEEDBACK \\n')\n",
    "#print('True Negatives = ',tn_tot)\n",
    "print('True Positives = ',tp_tot)\n",
    "print('False Negatives = ',fn_tot)\n",
    "#print('False Positives = ',fp_tot)\n",
    "\n",
    "recall = tp_tot / (tp_tot + fn_tot)\n",
    "\n",
    "precision_uu.append(round((tp_tot/(ncustomers*2))*100,2))\n",
    "recall_uu.append(round(recall*100,2))\n",
    "\n",
    "print('Precision = ',round((tp_tot/(ncustomers*2))*100,2),\"%\")\n",
    "print('Recall = ',round(recall*100,2),\"%\")"
   ]
  },
  {
   "cell_type": "code",
   "execution_count": 47,
   "metadata": {},
   "outputs": [
    {
     "name": "stdout",
     "output_type": "stream",
     "text": [
      "Results of USER BASED COLLABORATIVE FILTERING FOR IMPLICIT FEEDBACK WITH DEMOGRAPHIC CORRELATIONS \n",
      "\n",
      "True Positives =  5784\n",
      "False Negatives =  5037\n",
      "Precision =  28.92 %\n",
      "Recall =  53.45 %\n"
     ]
    }
   ],
   "source": [
    "recommendations_uu=pd.DataFrame(list(zip(pred_user, pred_acct2)),columns=['customer_code','account'])\n",
    "recommendations_uu['ownership']=1\n",
    "recommendations_uu=recommendations_uu.pivot_table('ownership','customer_code','account')\n",
    "recommendations_uu=recommendations_uu.reindex_axis(['ind_savings_account', 'ind_guarantees',\n",
    "       'ind_current_account', 'ind_derivada_account', 'ind_junior_account',\n",
    "       'ind_mas_particular_account', 'ind_particular_account',\n",
    "       'ind_particular_plus_account', 'ind_short_term_deposit',\n",
    "       'ind_medium_term_deposit', 'ind_long_term_deposit', 'ind_eaccount',\n",
    "       'ind_funds', 'ind_mortgage', 'ind_pensions', 'ind_loans', 'ind_taxes',\n",
    "       'ind_credit_cards', 'ind_securities', 'ind_home_accounts',\n",
    "       'ind_payrolls', 'ind_direct_debits'], axis=1).fillna(0)\n",
    "recommendations_uu=recommendations_uu.sort_index()\n",
    "recommendations_uu_mat = recommendations_uu.values\n",
    "K+=recommendations_uu_mat\n",
    "\n",
    "tn_tot=0\n",
    "fp_tot=0\n",
    "fn_tot=0\n",
    "tp_tot=0\n",
    "for i in range(0,22):\n",
    "    x=confusion_matrix(C[:,i],K[:,i])\n",
    "    if x.shape[0]==2:\n",
    "        tn, fp, fn, tp = x.ravel()\n",
    "        tn_tot+=tn\n",
    "        fp_tot+=fp\n",
    "        fn_tot+=fn\n",
    "        tp_tot+=tp\n",
    "    else:\n",
    "        tn_tot += np.sum(x)\n",
    "\n",
    "print('Results of USER BASED COLLABORATIVE FILTERING FOR IMPLICIT FEEDBACK WITH DEMOGRAPHIC CORRELATIONS \\n')\n",
    "\n",
    "#print('True Negatives = ',tn_tot)\n",
    "print('True Positives = ',tp_tot)\n",
    "print('False Negatives = ',fn_tot)\n",
    "#print('False Positives = ',fp_tot)\n",
    "\n",
    "recall = tp_tot / (tp_tot + fn_tot)\n",
    "\n",
    "precision_demo.append(round((tp_tot/(ncustomers*2))*100,2))\n",
    "recall_demo.append(round(recall*100,2))\n",
    "\n",
    "print('Precision = ',round((tp_tot/(ncustomers*2))*100,2),\"%\")\n",
    "print('Recall = ',round(recall*100,2),\"%\")"
   ]
  },
  {
   "cell_type": "markdown",
   "metadata": {},
   "source": [
    "Precision and Recall @ K = 3"
   ]
  },
  {
   "cell_type": "code",
   "execution_count": 48,
   "metadata": {},
   "outputs": [
    {
     "name": "stdout",
     "output_type": "stream",
     "text": [
      "Results of COLLABORATIVE FILTERING FOR IMPLICIT FEEDBACK - ALTERNATING LEAST SQUARES \n",
      "\n",
      "True Positives =  5492\n",
      "False Negatives =  5329\n",
      "Precision =  18.31 %\n",
      "Recall =  50.75 %\n"
     ]
    }
   ],
   "source": [
    "recommendations=pd.DataFrame(list(zip(cust, rec_item_3)),columns=['customer_code_id','account'])\n",
    "recommendations=pd.merge(recommendations,recommend_data[['customer_code','customer_code_id']],on='customer_code_id')\n",
    "recommendations.drop(['customer_code_id'],axis=1,inplace=True)\n",
    "recommendations['ownership']=1\n",
    "recommendations=recommendations.pivot_table('ownership','customer_code','account')\n",
    "recommendations=recommendations.reindex_axis(['ind_savings_account', 'ind_guarantees',\n",
    "       'ind_current_account', 'ind_derivada_account', 'ind_junior_account',\n",
    "       'ind_mas_particular_account', 'ind_particular_account',\n",
    "       'ind_particular_plus_account', 'ind_short_term_deposit',\n",
    "       'ind_medium_term_deposit', 'ind_long_term_deposit', 'ind_eaccount',\n",
    "       'ind_funds', 'ind_mortgage', 'ind_pensions', 'ind_loans', 'ind_taxes',\n",
    "       'ind_credit_cards', 'ind_securities', 'ind_home_accounts',\n",
    "       'ind_payrolls', 'ind_direct_debits'], axis=1).fillna(0)\n",
    "recommendations=recommendations.sort_index()\n",
    "recommendations_mat = recommendations.values\n",
    "D+=recommendations_mat\n",
    "\n",
    "tn_tot=0\n",
    "fp_tot=0\n",
    "fn_tot=0\n",
    "tp_tot=0\n",
    "for i in range(0,22):\n",
    "    x=confusion_matrix(C[:,i],D[:,i])\n",
    "    if x.shape[0]==2:\n",
    "        tn, fp, fn, tp = x.ravel()\n",
    "        tn_tot+=tn\n",
    "        fp_tot+=fp\n",
    "        fn_tot+=fn\n",
    "        tp_tot+=tp\n",
    "    else:\n",
    "        tn_tot += np.sum(x)\n",
    "\n",
    "print('Results of COLLABORATIVE FILTERING FOR IMPLICIT FEEDBACK - ALTERNATING LEAST SQUARES \\n')\n",
    "\n",
    "#print('True Negatives = ',tn_tot)\n",
    "print('True Positives = ',tp_tot)\n",
    "print('False Negatives = ',fn_tot)\n",
    "#print('False Positives = ',fp_tot)\n",
    "\n",
    "recall = tp_tot / (tp_tot + fn_tot)\n",
    "\n",
    "precision_als.append(round((tp_tot/(ncustomers*3))*100,2))\n",
    "recall_als.append(round(recall*100,2))\n",
    "\n",
    "print('Precision = ',round((tp_tot/(ncustomers*3))*100,2),\"%\")\n",
    "print('Recall = ',round(recall*100,2),\"%\")"
   ]
  },
  {
   "cell_type": "code",
   "execution_count": 49,
   "metadata": {},
   "outputs": [
    {
     "name": "stdout",
     "output_type": "stream",
     "text": [
      "Results of USER-USER BASED COLLABORATIVE FILTERING FOR BINARY IMPLICIT FEEDBACK \n",
      "\n",
      "True Positives =  6964\n",
      "False Negatives =  3857\n",
      "Precision =  23.21 %\n",
      "Recall =  64.36 %\n"
     ]
    }
   ],
   "source": [
    "recommendations_uu=pd.DataFrame(list(zip(pred_user, pred_acc3)),columns=['customer_code','account'])\n",
    "recommendations_uu['ownership']=1\n",
    "recommendations_uu=recommendations_uu.pivot_table('ownership','customer_code','account')\n",
    "recommendations_uu=recommendations_uu.reindex_axis(['ind_savings_account', 'ind_guarantees',\n",
    "       'ind_current_account', 'ind_derivada_account', 'ind_junior_account',\n",
    "       'ind_mas_particular_account', 'ind_particular_account',\n",
    "       'ind_particular_plus_account', 'ind_short_term_deposit',\n",
    "       'ind_medium_term_deposit', 'ind_long_term_deposit', 'ind_eaccount',\n",
    "       'ind_funds', 'ind_mortgage', 'ind_pensions', 'ind_loans', 'ind_taxes',\n",
    "       'ind_credit_cards', 'ind_securities', 'ind_home_accounts',\n",
    "       'ind_payrolls', 'ind_direct_debits'], axis=1).fillna(0)\n",
    "recommendations_uu=recommendations_uu.sort_index()\n",
    "recommendations_uu_mat = recommendations_uu.values\n",
    "J+=recommendations_uu_mat\n",
    "\n",
    "tn_tot=0\n",
    "fp_tot=0\n",
    "fn_tot=0\n",
    "tp_tot=0\n",
    "for i in range(0,22):\n",
    "    x=confusion_matrix(C[:,i],J[:,i])\n",
    "    if x.shape[0]==2:\n",
    "        tn, fp, fn, tp = x.ravel()\n",
    "        tn_tot+=tn\n",
    "        fp_tot+=fp\n",
    "        fn_tot+=fn\n",
    "        tp_tot+=tp\n",
    "    else:\n",
    "        tn_tot += np.sum(x)\n",
    "        \n",
    "print('Results of USER-USER BASED COLLABORATIVE FILTERING FOR BINARY IMPLICIT FEEDBACK \\n')\n",
    "#print('True Negatives = ',tn_tot)\n",
    "print('True Positives = ',tp_tot)\n",
    "print('False Negatives = ',fn_tot)\n",
    "#print('False Positives = ',fp_tot)\n",
    "\n",
    "recall = tp_tot / (tp_tot + fn_tot)\n",
    "\n",
    "precision_uu.append(round((tp_tot/(ncustomers*3))*100,2))\n",
    "recall_uu.append(round(recall*100,2))\n",
    "\n",
    "print('Precision = ',round((tp_tot/(ncustomers*3))*100,2),\"%\")\n",
    "print('Recall = ',round(recall*100,2),\"%\")"
   ]
  },
  {
   "cell_type": "code",
   "execution_count": 50,
   "metadata": {},
   "outputs": [
    {
     "name": "stdout",
     "output_type": "stream",
     "text": [
      "Results of USER BASED COLLABORATIVE FILTERING FOR IMPLICIT FEEDBACK WITH DEMOGRAPHIC CORRELATIONS \n",
      "\n",
      "True Positives =  7262\n",
      "False Negatives =  3559\n",
      "Precision =  24.21 %\n",
      "Recall =  67.11 %\n"
     ]
    }
   ],
   "source": [
    "recommendations_uu=pd.DataFrame(list(zip(pred_user, pred_acct3)),columns=['customer_code','account'])\n",
    "recommendations_uu['ownership']=1\n",
    "recommendations_uu=recommendations_uu.pivot_table('ownership','customer_code','account')\n",
    "recommendations_uu=recommendations_uu.reindex_axis(['ind_savings_account', 'ind_guarantees',\n",
    "       'ind_current_account', 'ind_derivada_account', 'ind_junior_account',\n",
    "       'ind_mas_particular_account', 'ind_particular_account',\n",
    "       'ind_particular_plus_account', 'ind_short_term_deposit',\n",
    "       'ind_medium_term_deposit', 'ind_long_term_deposit', 'ind_eaccount',\n",
    "       'ind_funds', 'ind_mortgage', 'ind_pensions', 'ind_loans', 'ind_taxes',\n",
    "       'ind_credit_cards', 'ind_securities', 'ind_home_accounts',\n",
    "       'ind_payrolls', 'ind_direct_debits'], axis=1).fillna(0)\n",
    "recommendations_uu=recommendations_uu.sort_index()\n",
    "recommendations_uu_mat = recommendations_uu.values\n",
    "K+=recommendations_uu_mat\n",
    "\n",
    "tn_tot=0\n",
    "fp_tot=0\n",
    "fn_tot=0\n",
    "tp_tot=0\n",
    "for i in range(0,22):\n",
    "    x=confusion_matrix(C[:,i],K[:,i])\n",
    "    if x.shape[0]==2:\n",
    "        tn, fp, fn, tp = x.ravel()\n",
    "        tn_tot+=tn\n",
    "        fp_tot+=fp\n",
    "        fn_tot+=fn\n",
    "        tp_tot+=tp\n",
    "    else:\n",
    "        tn_tot += np.sum(x)\n",
    "\n",
    "print('Results of USER BASED COLLABORATIVE FILTERING FOR IMPLICIT FEEDBACK WITH DEMOGRAPHIC CORRELATIONS \\n')\n",
    "\n",
    "#print('True Negatives = ',tn_tot)\n",
    "print('True Positives = ',tp_tot)\n",
    "print('False Negatives = ',fn_tot)\n",
    "#print('False Positives = ',fp_tot)\n",
    "\n",
    "recall = tp_tot / (tp_tot + fn_tot)\n",
    "\n",
    "precision_demo.append(round((tp_tot/(ncustomers*3))*100,2))\n",
    "recall_demo.append(round(recall*100,2))\n",
    "\n",
    "print('Precision = ',round((tp_tot/(ncustomers*3))*100,2),\"%\")\n",
    "print('Recall = ',round(recall*100,2),\"%\")"
   ]
  },
  {
   "cell_type": "markdown",
   "metadata": {},
   "source": [
    "Precision and Recall @ K = 4"
   ]
  },
  {
   "cell_type": "code",
   "execution_count": 51,
   "metadata": {},
   "outputs": [
    {
     "name": "stdout",
     "output_type": "stream",
     "text": [
      "Results of COLLABORATIVE FILTERING FOR IMPLICIT FEEDBACK - ALTERNATING LEAST SQUARES \n",
      "\n",
      "True Positives =  5987\n",
      "False Negatives =  4834\n",
      "Precision =  14.97 %\n",
      "Recall =  55.33 %\n"
     ]
    }
   ],
   "source": [
    "recommendations=pd.DataFrame(list(zip(cust, rec_item_4)),columns=['customer_code_id','account'])\n",
    "recommendations=pd.merge(recommendations,recommend_data[['customer_code','customer_code_id']],on='customer_code_id')\n",
    "recommendations.drop(['customer_code_id'],axis=1,inplace=True)\n",
    "recommendations['ownership']=1\n",
    "recommendations=recommendations.pivot_table('ownership','customer_code','account')\n",
    "recommendations=recommendations.reindex_axis(['ind_savings_account', 'ind_guarantees',\n",
    "       'ind_current_account', 'ind_derivada_account', 'ind_junior_account',\n",
    "       'ind_mas_particular_account', 'ind_particular_account',\n",
    "       'ind_particular_plus_account', 'ind_short_term_deposit',\n",
    "       'ind_medium_term_deposit', 'ind_long_term_deposit', 'ind_eaccount',\n",
    "       'ind_funds', 'ind_mortgage', 'ind_pensions', 'ind_loans', 'ind_taxes',\n",
    "       'ind_credit_cards', 'ind_securities', 'ind_home_accounts',\n",
    "       'ind_payrolls', 'ind_direct_debits'], axis=1).fillna(0)\n",
    "recommendations=recommendations.sort_index()\n",
    "recommendations_mat = recommendations.values\n",
    "D+=recommendations_mat\n",
    "\n",
    "tn_tot=0\n",
    "fp_tot=0\n",
    "fn_tot=0\n",
    "tp_tot=0\n",
    "for i in range(0,22):\n",
    "    x=confusion_matrix(C[:,i],D[:,i])\n",
    "    if x.shape[0]==2:\n",
    "        tn, fp, fn, tp = x.ravel()\n",
    "        tn_tot+=tn\n",
    "        fp_tot+=fp\n",
    "        fn_tot+=fn\n",
    "        tp_tot+=tp\n",
    "    else:\n",
    "        tn_tot += np.sum(x)\n",
    "\n",
    "print('Results of COLLABORATIVE FILTERING FOR IMPLICIT FEEDBACK - ALTERNATING LEAST SQUARES \\n')\n",
    "\n",
    "#print('True Negatives = ',tn_tot)\n",
    "print('True Positives = ',tp_tot)\n",
    "print('False Negatives = ',fn_tot)\n",
    "#print('False Positives = ',fp_tot)\n",
    "\n",
    "recall = tp_tot / (tp_tot + fn_tot)\n",
    "\n",
    "precision_als.append(round((tp_tot/(ncustomers*4))*100,2))\n",
    "recall_als.append(round(recall*100,2))\n",
    "\n",
    "print('Precision = ',round((tp_tot/(ncustomers*4))*100,2),\"%\")\n",
    "print('Recall = ',round(recall*100,2),\"%\")"
   ]
  },
  {
   "cell_type": "code",
   "execution_count": 52,
   "metadata": {},
   "outputs": [
    {
     "name": "stdout",
     "output_type": "stream",
     "text": [
      "Results of USER-USER BASED COLLABORATIVE FILTERING FOR BINARY IMPLICIT FEEDBACK \n",
      "\n",
      "True Positives =  8348\n",
      "False Negatives =  2473\n",
      "Precision =  20.87 %\n",
      "Recall =  77.15 %\n"
     ]
    }
   ],
   "source": [
    "recommendations_uu=pd.DataFrame(list(zip(pred_user, pred_acc4)),columns=['customer_code','account'])\n",
    "recommendations_uu['ownership']=1\n",
    "recommendations_uu=recommendations_uu.pivot_table('ownership','customer_code','account')\n",
    "recommendations_uu=recommendations_uu.reindex_axis(['ind_savings_account', 'ind_guarantees',\n",
    "       'ind_current_account', 'ind_derivada_account', 'ind_junior_account',\n",
    "       'ind_mas_particular_account', 'ind_particular_account',\n",
    "       'ind_particular_plus_account', 'ind_short_term_deposit',\n",
    "       'ind_medium_term_deposit', 'ind_long_term_deposit', 'ind_eaccount',\n",
    "       'ind_funds', 'ind_mortgage', 'ind_pensions', 'ind_loans', 'ind_taxes',\n",
    "       'ind_credit_cards', 'ind_securities', 'ind_home_accounts',\n",
    "       'ind_payrolls', 'ind_direct_debits'], axis=1).fillna(0)\n",
    "recommendations_uu=recommendations_uu.sort_index()\n",
    "recommendations_uu_mat = recommendations_uu.values\n",
    "J+=recommendations_uu_mat\n",
    "\n",
    "tn_tot=0\n",
    "fp_tot=0\n",
    "fn_tot=0\n",
    "tp_tot=0\n",
    "for i in range(0,22):\n",
    "    x=confusion_matrix(C[:,i],J[:,i])\n",
    "    if x.shape[0]==2:\n",
    "        tn, fp, fn, tp = x.ravel()\n",
    "        tn_tot+=tn\n",
    "        fp_tot+=fp\n",
    "        fn_tot+=fn\n",
    "        tp_tot+=tp\n",
    "    else:\n",
    "        tn_tot += np.sum(x)\n",
    "        \n",
    "print('Results of USER-USER BASED COLLABORATIVE FILTERING FOR BINARY IMPLICIT FEEDBACK \\n')\n",
    "#print('True Negatives = ',tn_tot)\n",
    "print('True Positives = ',tp_tot)\n",
    "print('False Negatives = ',fn_tot)\n",
    "#print('False Positives = ',fp_tot)\n",
    "\n",
    "recall = tp_tot / (tp_tot + fn_tot)\n",
    "\n",
    "precision_uu.append(round((tp_tot/(ncustomers*4))*100,2))\n",
    "recall_uu.append(round(recall*100,2))\n",
    "\n",
    "print('Precision = ',round((tp_tot/(ncustomers*4))*100,2),\"%\")\n",
    "print('Recall = ',round(recall*100,2),\"%\")"
   ]
  },
  {
   "cell_type": "code",
   "execution_count": 53,
   "metadata": {},
   "outputs": [
    {
     "name": "stdout",
     "output_type": "stream",
     "text": [
      "Results of USER BASED COLLABORATIVE FILTERING FOR IMPLICIT FEEDBACK WITH DEMOGRAPHIC CORRELATIONS \n",
      "\n",
      "True Positives =  8389\n",
      "False Negatives =  2432\n",
      "Precision =  20.97 %\n",
      "Recall =  77.53 %\n"
     ]
    }
   ],
   "source": [
    "recommendations_uu=pd.DataFrame(list(zip(pred_user, pred_acct4)),columns=['customer_code','account'])\n",
    "recommendations_uu['ownership']=1\n",
    "recommendations_uu=recommendations_uu.pivot_table('ownership','customer_code','account')\n",
    "recommendations_uu=recommendations_uu.reindex_axis(['ind_savings_account', 'ind_guarantees',\n",
    "       'ind_current_account', 'ind_derivada_account', 'ind_junior_account',\n",
    "       'ind_mas_particular_account', 'ind_particular_account',\n",
    "       'ind_particular_plus_account', 'ind_short_term_deposit',\n",
    "       'ind_medium_term_deposit', 'ind_long_term_deposit', 'ind_eaccount',\n",
    "       'ind_funds', 'ind_mortgage', 'ind_pensions', 'ind_loans', 'ind_taxes',\n",
    "       'ind_credit_cards', 'ind_securities', 'ind_home_accounts',\n",
    "       'ind_payrolls', 'ind_direct_debits'], axis=1).fillna(0)\n",
    "recommendations_uu=recommendations_uu.sort_index()\n",
    "recommendations_uu_mat = recommendations_uu.values\n",
    "K+=recommendations_uu_mat\n",
    "\n",
    "tn_tot=0\n",
    "fp_tot=0\n",
    "fn_tot=0\n",
    "tp_tot=0\n",
    "for i in range(0,22):\n",
    "    x=confusion_matrix(C[:,i],K[:,i])\n",
    "    if x.shape[0]==2:\n",
    "        tn, fp, fn, tp = x.ravel()\n",
    "        tn_tot+=tn\n",
    "        fp_tot+=fp\n",
    "        fn_tot+=fn\n",
    "        tp_tot+=tp\n",
    "    else:\n",
    "        tn_tot += np.sum(x)\n",
    "\n",
    "print('Results of USER BASED COLLABORATIVE FILTERING FOR IMPLICIT FEEDBACK WITH DEMOGRAPHIC CORRELATIONS \\n')\n",
    "\n",
    "#print('True Negatives = ',tn_tot)\n",
    "print('True Positives = ',tp_tot)\n",
    "print('False Negatives = ',fn_tot)\n",
    "#print('False Positives = ',fp_tot)\n",
    "\n",
    "recall = tp_tot / (tp_tot + fn_tot)\n",
    "\n",
    "precision_demo.append(round((tp_tot/(ncustomers*4))*100,2))\n",
    "recall_demo.append(round(recall*100,2))\n",
    "\n",
    "print('Precision = ',round((tp_tot/(ncustomers*4))*100,2),\"%\")\n",
    "print('Recall = ',round(recall*100,2),\"%\")"
   ]
  },
  {
   "cell_type": "markdown",
   "metadata": {},
   "source": [
    "Precision and Recall @ K = 5"
   ]
  },
  {
   "cell_type": "code",
   "execution_count": 54,
   "metadata": {},
   "outputs": [
    {
     "name": "stdout",
     "output_type": "stream",
     "text": [
      "Results of COLLABORATIVE FILTERING FOR IMPLICIT FEEDBACK - ALTERNATING LEAST SQUARES \n",
      "\n",
      "True Positives =  7171\n",
      "False Negatives =  3650\n",
      "Precision =  14.34 %\n",
      "Recall =  66.27 %\n"
     ]
    }
   ],
   "source": [
    "recommendations=pd.DataFrame(list(zip(cust, rec_item_5)),columns=['customer_code_id','account'])\n",
    "recommendations=pd.merge(recommendations,recommend_data[['customer_code','customer_code_id']],on='customer_code_id')\n",
    "recommendations.drop(['customer_code_id'],axis=1,inplace=True)\n",
    "recommendations['ownership']=1\n",
    "recommendations=recommendations.pivot_table('ownership','customer_code','account')\n",
    "recommendations=recommendations.reindex_axis(['ind_savings_account', 'ind_guarantees',\n",
    "       'ind_current_account', 'ind_derivada_account', 'ind_junior_account',\n",
    "       'ind_mas_particular_account', 'ind_particular_account',\n",
    "       'ind_particular_plus_account', 'ind_short_term_deposit',\n",
    "       'ind_medium_term_deposit', 'ind_long_term_deposit', 'ind_eaccount',\n",
    "       'ind_funds', 'ind_mortgage', 'ind_pensions', 'ind_loans', 'ind_taxes',\n",
    "       'ind_credit_cards', 'ind_securities', 'ind_home_accounts',\n",
    "       'ind_payrolls', 'ind_direct_debits'], axis=1).fillna(0)\n",
    "recommendations=recommendations.sort_index()\n",
    "recommendations_mat = recommendations.values\n",
    "D+=recommendations_mat\n",
    "\n",
    "tn_tot=0\n",
    "fp_tot=0\n",
    "fn_tot=0\n",
    "tp_tot=0\n",
    "for i in range(0,22):\n",
    "    x=confusion_matrix(C[:,i],D[:,i])\n",
    "    if x.shape[0]==2:\n",
    "        tn, fp, fn, tp = x.ravel()\n",
    "        tn_tot+=tn\n",
    "        fp_tot+=fp\n",
    "        fn_tot+=fn\n",
    "        tp_tot+=tp\n",
    "    else:\n",
    "        tn_tot += np.sum(x)\n",
    "\n",
    "print('Results of COLLABORATIVE FILTERING FOR IMPLICIT FEEDBACK - ALTERNATING LEAST SQUARES \\n')\n",
    "\n",
    "#print('True Negatives = ',tn_tot)\n",
    "print('True Positives = ',tp_tot)\n",
    "print('False Negatives = ',fn_tot)\n",
    "#print('False Positives = ',fp_tot)\n",
    "\n",
    "recall = tp_tot / (tp_tot + fn_tot)\n",
    "\n",
    "precision_als.append(round((tp_tot/(ncustomers*5))*100,2))\n",
    "recall_als.append(round(recall*100,2))\n",
    "\n",
    "print('Precision = ',round((tp_tot/(ncustomers*5))*100,2),\"%\")\n",
    "print('Recall = ',round(recall*100,2),\"%\")"
   ]
  },
  {
   "cell_type": "code",
   "execution_count": 55,
   "metadata": {},
   "outputs": [
    {
     "name": "stdout",
     "output_type": "stream",
     "text": [
      "Results of USER-USER BASED COLLABORATIVE FILTERING FOR BINARY IMPLICIT FEEDBACK \n",
      "\n",
      "True Positives =  9384\n",
      "False Negatives =  1437\n",
      "Precision =  18.77 %\n",
      "Recall =  86.72 %\n"
     ]
    }
   ],
   "source": [
    "recommendations_uu=pd.DataFrame(list(zip(pred_user, pred_acc5)),columns=['customer_code','account'])\n",
    "recommendations_uu['ownership']=1\n",
    "recommendations_uu=recommendations_uu.pivot_table('ownership','customer_code','account')\n",
    "recommendations_uu=recommendations_uu.reindex_axis(['ind_savings_account', 'ind_guarantees',\n",
    "       'ind_current_account', 'ind_derivada_account', 'ind_junior_account',\n",
    "       'ind_mas_particular_account', 'ind_particular_account',\n",
    "       'ind_particular_plus_account', 'ind_short_term_deposit',\n",
    "       'ind_medium_term_deposit', 'ind_long_term_deposit', 'ind_eaccount',\n",
    "       'ind_funds', 'ind_mortgage', 'ind_pensions', 'ind_loans', 'ind_taxes',\n",
    "       'ind_credit_cards', 'ind_securities', 'ind_home_accounts',\n",
    "       'ind_payrolls', 'ind_direct_debits'], axis=1).fillna(0)\n",
    "recommendations_uu=recommendations_uu.sort_index()\n",
    "recommendations_uu_mat = recommendations_uu.values\n",
    "J+=recommendations_uu_mat\n",
    "\n",
    "tn_tot=0\n",
    "fp_tot=0\n",
    "fn_tot=0\n",
    "tp_tot=0\n",
    "for i in range(0,22):\n",
    "    x=confusion_matrix(C[:,i],J[:,i])\n",
    "    if x.shape[0]==2:\n",
    "        tn, fp, fn, tp = x.ravel()\n",
    "        tn_tot+=tn\n",
    "        fp_tot+=fp\n",
    "        fn_tot+=fn\n",
    "        tp_tot+=tp\n",
    "    else:\n",
    "        tn_tot += np.sum(x)\n",
    "        \n",
    "print('Results of USER-USER BASED COLLABORATIVE FILTERING FOR BINARY IMPLICIT FEEDBACK \\n')\n",
    "#print('True Negatives = ',tn_tot)\n",
    "print('True Positives = ',tp_tot)\n",
    "print('False Negatives = ',fn_tot)\n",
    "#print('False Positives = ',fp_tot)\n",
    "\n",
    "recall = tp_tot / (tp_tot + fn_tot)\n",
    "\n",
    "precision_uu.append(round((tp_tot/(ncustomers*5))*100,2))\n",
    "recall_uu.append(round(recall*100,2))\n",
    "\n",
    "print('Precision = ',round((tp_tot/(ncustomers*5))*100,2),\"%\")\n",
    "print('Recall = ',round(recall*100,2),\"%\")"
   ]
  },
  {
   "cell_type": "code",
   "execution_count": 56,
   "metadata": {},
   "outputs": [
    {
     "name": "stdout",
     "output_type": "stream",
     "text": [
      "Results of USER BASED COLLABORATIVE FILTERING FOR IMPLICIT FEEDBACK WITH DEMOGRAPHIC CORRELATIONS \n",
      "\n",
      "True Positives =  9440\n",
      "False Negatives =  1381\n",
      "Precision =  18.88 %\n",
      "Recall =  87.24 %\n"
     ]
    }
   ],
   "source": [
    "recommendations_uu=pd.DataFrame(list(zip(pred_user, pred_acct5)),columns=['customer_code','account'])\n",
    "recommendations_uu['ownership']=1\n",
    "recommendations_uu=recommendations_uu.pivot_table('ownership','customer_code','account')\n",
    "recommendations_uu=recommendations_uu.reindex_axis(['ind_savings_account', 'ind_guarantees',\n",
    "       'ind_current_account', 'ind_derivada_account', 'ind_junior_account',\n",
    "       'ind_mas_particular_account', 'ind_particular_account',\n",
    "       'ind_particular_plus_account', 'ind_short_term_deposit',\n",
    "       'ind_medium_term_deposit', 'ind_long_term_deposit', 'ind_eaccount',\n",
    "       'ind_funds', 'ind_mortgage', 'ind_pensions', 'ind_loans', 'ind_taxes',\n",
    "       'ind_credit_cards', 'ind_securities', 'ind_home_accounts',\n",
    "       'ind_payrolls', 'ind_direct_debits'], axis=1).fillna(0)\n",
    "recommendations_uu=recommendations_uu.sort_index()\n",
    "recommendations_uu_mat = recommendations_uu.values\n",
    "K+=recommendations_uu_mat\n",
    "\n",
    "tn_tot=0\n",
    "fp_tot=0\n",
    "fn_tot=0\n",
    "tp_tot=0\n",
    "for i in range(0,22):\n",
    "    x=confusion_matrix(C[:,i],K[:,i])\n",
    "    if x.shape[0]==2:\n",
    "        tn, fp, fn, tp = x.ravel()\n",
    "        tn_tot+=tn\n",
    "        fp_tot+=fp\n",
    "        fn_tot+=fn\n",
    "        tp_tot+=tp\n",
    "    else:\n",
    "        tn_tot += np.sum(x)\n",
    "\n",
    "print('Results of USER BASED COLLABORATIVE FILTERING FOR IMPLICIT FEEDBACK WITH DEMOGRAPHIC CORRELATIONS \\n')\n",
    "\n",
    "#print('True Negatives = ',tn_tot)\n",
    "print('True Positives = ',tp_tot)\n",
    "print('False Negatives = ',fn_tot)\n",
    "#print('False Positives = ',fp_tot)\n",
    "\n",
    "recall = tp_tot / (tp_tot + fn_tot)\n",
    "\n",
    "precision_demo.append(round((tp_tot/(ncustomers*5))*100,2))\n",
    "recall_demo.append(round(recall*100,2))\n",
    "\n",
    "print('Precision = ',round((tp_tot/(ncustomers*5))*100,2),\"%\")\n",
    "print('Recall = ',round(recall*100,2),\"%\")"
   ]
  },
  {
   "cell_type": "markdown",
   "metadata": {},
   "source": [
    "Plot the PRECISION @ K and RECALL @ K metrics to identify optimal"
   ]
  },
  {
   "cell_type": "code",
   "execution_count": 57,
   "metadata": {},
   "outputs": [
    {
     "data": {
      "text/plain": [
       "[<matplotlib.axis.XTick at 0x1d8026f8278>,\n",
       " <matplotlib.axis.XTick at 0x1d8026efb70>,\n",
       " <matplotlib.axis.XTick at 0x1d8026ef898>,\n",
       " <matplotlib.axis.XTick at 0x1d802a1cd68>,\n",
       " <matplotlib.axis.XTick at 0x1d802a3bd68>]"
      ]
     },
     "execution_count": 57,
     "metadata": {},
     "output_type": "execute_result"
    },
    {
     "data": {
      "image/png": "[encoded data removed]",
      "text/plain": [
       "<Figure size 1440x504 with 2 Axes>"
      ]
     },
     "metadata": {
      "needs_background": "light"
     },
     "output_type": "display_data"
    }
   ],
   "source": [
    "kpreds = [1,2,3,4,5]\n",
    "fig,axes = plt.subplots(ncols=2 ,nrows=1)\n",
    "fig.set_size_inches(20,7)\n",
    "sns.scatterplot(x=kpreds,y=precision_als,marker=\"x\",ax=axes[0]).set_title('Precision @ K')\n",
    "sns.lineplot(x=kpreds,y=precision_als,markers=True,label='ALS',ax=axes[0])\n",
    "sns.scatterplot(x=kpreds,y=precision_uu,marker=\"o\",ax=axes[0])\n",
    "sns.lineplot(x=kpreds,y=precision_uu,markers=True,label='USER-USER',ax=axes[0])\n",
    "sns.scatterplot(x=kpreds,y=precision_demo,marker=\"^\",ax=axes[0])\n",
    "sns.lineplot(x=kpreds,y=precision_demo,markers=True,label='USER-USER DEMOGRAPHIC',ax=axes[0])\n",
    "axes[0].set(xlabel='K',ylabel='Precision %')\n",
    "axes[0].set_xticks(kpreds)\n",
    "\n",
    "sns.scatterplot(x=kpreds,y=recall_als,marker=\"x\",ax=axes[1]).set_title('Recall @ K')\n",
    "sns.lineplot(x=kpreds,y=recall_als,markers=True,label='ALS',ax=axes[1])\n",
    "sns.scatterplot(x=kpreds,y=recall_uu,marker=\"o\",ax=axes[1])\n",
    "sns.lineplot(x=kpreds,y=recall_uu,markers=True,label='USER-USER',ax=axes[1])\n",
    "sns.scatterplot(x=kpreds,y=recall_demo,marker=\"^\",ax=axes[1])\n",
    "sns.lineplot(x=kpreds,y=recall_demo,markers=True,label='USER-USER DEMOGRAPHIC',ax=axes[1])\n",
    "axes[1].set(xlabel='K',ylabel='Recall %')\n",
    "axes[1].set_xticks(kpreds)"
   ]
  },
  {
   "cell_type": "code",
   "execution_count": 58,
   "metadata": {},
   "outputs": [],
   "source": [
    "precision_als = np.divide(precision_als,100)\n",
    "precision_uu = np.divide(precision_uu,100)\n",
    "precision_demo = np.divide(precision_demo,100)\n",
    "\n",
    "recall_als = np.divide(recall_als,100)\n",
    "recall_uu = np.divide(recall_uu,100)\n",
    "recall_demo = np.divide(recall_demo,100)"
   ]
  },
  {
   "cell_type": "code",
   "execution_count": 59,
   "metadata": {},
   "outputs": [],
   "source": [
    "precision_als = [round(x,3) for x in precision_als]\n",
    "precision_uu= [round(x,3) for x in precision_uu]\n",
    "precision_demo= [round(x,3) for x in precision_demo]\n",
    "\n",
    "recall_als = [round(x,2) for x in recall_als]\n",
    "recall_uu= [round(x,2) for x in recall_uu]\n",
    "recall_demo= [round(x,2) for x in recall_demo]"
   ]
  },
  {
   "cell_type": "code",
   "execution_count": 60,
   "metadata": {},
   "outputs": [
    {
     "name": "stdout",
     "output_type": "stream",
     "text": [
      "\n",
      " PRECISION @ K\n",
      "+--------------------------------------------+-------+-------+-------+-------+-------+\n",
      "|                   Model                    |  K=1  |  K=2  |  K=3  |  K=4  |  K=5  |\n",
      "+--------------------------------------------+-------+-------+-------+-------+-------+\n",
      "|  IMPLICIT FB LATENT FACTORIZATION BY ALS   | 0.233 | 0.238 | 0.183 |  0.15 | 0.143 |\n",
      "|    USER BASED CF FOR BINARY IMPLICIT FB    | 0.315 |  0.29 | 0.232 | 0.209 | 0.188 |\n",
      "| USER BASED CF WITH DEMOGRAPHIC CORRELATION | 0.344 | 0.289 | 0.242 |  0.21 | 0.189 |\n",
      "+--------------------------------------------+-------+-------+-------+-------+-------+\n",
      "\n",
      " RECALL @ K\n",
      "+--------------------------------------------+------+------+------+------+------+\n",
      "|                   Model                    | K=1  | K=2  | K=3  | K=4  | K=5  |\n",
      "+--------------------------------------------+------+------+------+------+------+\n",
      "|  IMPLICIT FB LATENT FACTORIZATION BY ALS   | 0.22 | 0.44 | 0.51 | 0.55 | 0.66 |\n",
      "|    USER BASED CF FOR BINARY IMPLICIT FB    | 0.29 | 0.54 | 0.64 | 0.77 | 0.87 |\n",
      "| USER BASED CF WITH DEMOGRAPHIC CORRELATION | 0.32 | 0.53 | 0.67 | 0.78 | 0.87 |\n",
      "+--------------------------------------------+------+------+------+------+------+\n"
     ]
    }
   ],
   "source": [
    "print('\\n PRECISION @ K')\n",
    "t = PrettyTable(['Model', 'K=1' , 'K=2', 'K=3', 'K=4', 'K=5'])\n",
    "t.add_row(['IMPLICIT FB LATENT FACTORIZATION BY ALS', precision_als[0],precision_als[1],precision_als[2],precision_als[3],precision_als[4]])\n",
    "t.add_row(['USER BASED CF FOR BINARY IMPLICIT FB', precision_uu[0],precision_uu[1],precision_uu[2],precision_uu[3],precision_uu[4]])\n",
    "t.add_row(['USER BASED CF WITH DEMOGRAPHIC CORRELATION', precision_demo[0],precision_demo[1],precision_demo[2],precision_demo[3],precision_demo[4]])\n",
    "print(t)\n",
    "\n",
    "print('\\n RECALL @ K')\n",
    "t = PrettyTable(['Model', 'K=1' , 'K=2', 'K=3', 'K=4', 'K=5'])\n",
    "t.add_row(['IMPLICIT FB LATENT FACTORIZATION BY ALS', recall_als[0],recall_als[1],recall_als[2],recall_als[3],recall_als[4]])\n",
    "t.add_row(['USER BASED CF FOR BINARY IMPLICIT FB', recall_uu[0],recall_uu[1],recall_uu[2],recall_uu[3],recall_uu[4]])\n",
    "t.add_row(['USER BASED CF WITH DEMOGRAPHIC CORRELATION', recall_demo[0],recall_demo[1],recall_demo[2],recall_demo[3],recall_demo[4]])\n",
    "print(t)"
   ]
  }
 ],
 "metadata": {
  "kernelspec": {
   "display_name": "Python 3",
   "language": "python",
   "name": "python3"
  },
  "language_info": {
   "codemirror_mode": {
    "name": "ipython",
    "version": 3
   },
   "file_extension": ".py",
   "mimetype": "text/x-python",
   "name": "python",
   "nbconvert_exporter": "python",
   "pygments_lexer": "ipython3",
   "version": "3.7.0"
  }
 },
 "nbformat": 4,
 "nbformat_minor": 2
}
